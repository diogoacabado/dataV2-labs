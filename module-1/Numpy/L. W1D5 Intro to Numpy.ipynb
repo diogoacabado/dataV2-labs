{
 "cells": [
  {
   "cell_type": "code",
   "execution_count": 60,
   "metadata": {},
   "outputs": [],
   "source": [
    "import numpy as np"
   ]
  },
  {
   "cell_type": "code",
   "execution_count": 61,
   "metadata": {},
   "outputs": [
    {
     "name": "stdout",
     "output_type": "stream",
     "text": [
      "[[0.75069265 0.53100122 0.48637696 0.20811268]\n",
      " [0.28855746 0.86233589 0.82170344 0.64340505]\n",
      " [0.66165029 0.66529042 0.82118104 0.33245214]\n",
      " [0.23842237 0.99227012 0.70958494 0.78773342]\n",
      " [0.59956754 0.72311601 0.78621408 0.48428124]\n",
      " [0.77134511 0.90509481 0.39564717 0.70004292]\n",
      " [0.6590291  0.28677295 0.92953274 0.43896178]\n",
      " [0.22973736 0.96647811 0.51706048 0.11653039]\n",
      " [0.27601849 0.7595283  0.80449362 0.42240349]\n",
      " [0.61892953 0.31949189 0.83564542 0.43967919]]\n"
     ]
    }
   ],
   "source": [
    "a = np.random.random((10,4))\n",
    "print(a)"
   ]
  },
  {
   "cell_type": "code",
   "execution_count": 64,
   "metadata": {},
   "outputs": [
    {
     "name": "stdout",
     "output_type": "stream",
     "text": [
      "(10, 4)\n",
      "40\n"
     ]
    }
   ],
   "source": [
    "print(a.shape)\n",
    "print(a.size)"
   ]
  },
  {
   "cell_type": "code",
   "execution_count": 65,
   "metadata": {},
   "outputs": [
    {
     "name": "stdout",
     "output_type": "stream",
     "text": [
      "[[[0.38209725 0.73130747 0.13139883]\n",
      "  [0.54919881 0.62527461 0.06686365]]\n",
      "\n",
      " [[0.41784632 0.57334965 0.65472623]\n",
      "  [0.10141847 0.93333435 0.76158615]]\n",
      "\n",
      " [[0.48849578 0.48209849 0.14422475]\n",
      "  [0.17104929 0.33208798 0.34032683]]\n",
      "\n",
      " [[0.51688537 0.20437048 0.13783884]\n",
      "  [0.56326734 0.48755547 0.79034624]]\n",
      "\n",
      " [[0.21316809 0.70613788 0.28755579]\n",
      "  [0.78208943 0.27986811 0.44478567]]]\n"
     ]
    }
   ],
   "source": [
    "b = np.random.random((5,2,3))\n",
    "print(b)"
   ]
  },
  {
   "cell_type": "code",
   "execution_count": 66,
   "metadata": {},
   "outputs": [
    {
     "name": "stdout",
     "output_type": "stream",
     "text": [
      "[[[[0.44663079 0.45587552 0.34027188 0.87870477 0.93915403]\n",
      "   [0.55978169 0.81853125 0.782765   0.30755853 0.74114237]\n",
      "   [0.04763072 0.70659481 0.23311463 0.02229541 0.83197282]\n",
      "   [0.14375095 0.47215241 0.79180787 0.27993674 0.70350349]]\n",
      "\n",
      "  [[0.3665001  0.86685626 0.65787738 0.67181739 0.70525825]\n",
      "   [0.11123508 0.37934655 0.12405944 0.92505666 0.76646772]\n",
      "   [0.12351937 0.93124277 0.73067305 0.26628257 0.78452375]\n",
      "   [0.08914688 0.99100968 0.17017203 0.1999631  0.65197426]]\n",
      "\n",
      "  [[0.60723534 0.91786533 0.35927988 0.83349414 0.22244334]\n",
      "   [0.30643961 0.75649524 0.03756907 0.83671041 0.16471386]\n",
      "   [0.20445988 0.44138606 0.41151599 0.70515164 0.89430329]\n",
      "   [0.41987159 0.40370205 0.4042362  0.14056436 0.28353539]]]\n",
      "\n",
      "\n",
      " [[[0.8194405  0.11574288 0.80283331 0.13397416 0.96340668]\n",
      "   [0.91302462 0.04566511 0.09247761 0.55249625 0.1542715 ]\n",
      "   [0.41580112 0.35890579 0.38807288 0.45471243 0.43333296]\n",
      "   [0.94616899 0.73590145 0.87085776 0.83140426 0.58146401]]\n",
      "\n",
      "  [[0.64534837 0.69299664 0.5982409  0.97230697 0.61657655]\n",
      "   [0.51701072 0.74676326 0.30658333 0.69003994 0.51407803]\n",
      "   [0.54113157 0.18622969 0.04634009 0.11444482 0.90296497]\n",
      "   [0.78180135 0.49918792 0.26094615 0.96202001 0.86817979]]\n",
      "\n",
      "  [[0.52517015 0.03143169 0.93228886 0.62543004 0.72861929]\n",
      "   [0.71794596 0.21328808 0.77743403 0.24199324 0.84420373]\n",
      "   [0.41603482 0.04089575 0.69037477 0.34998538 0.71680283]\n",
      "   [0.30843986 0.62473565 0.83328321 0.41046227 0.95182922]]]]\n"
     ]
    }
   ],
   "source": [
    "c = np.random.random((2,3,4,5))\n",
    "print(c)"
   ]
  },
  {
   "cell_type": "code",
   "execution_count": 68,
   "metadata": {},
   "outputs": [
    {
     "name": "stdout",
     "output_type": "stream",
     "text": [
      "[[0.75069265 0.53100122 0.48637696 0.20811268]\n",
      " [0.28855746 0.86233589 0.82170344 0.64340505]\n",
      " [0.66165029 0.66529042 0.82118104 0.33245214]\n",
      " [0.23842237 0.99227012 0.70958494 0.78773342]\n",
      " [0.59956754 0.72311601 0.78621408 0.48428124]\n",
      " [0.77134511 0.90509481 0.39564717 0.70004292]\n",
      " [0.6590291  0.28677295 0.92953274 0.43896178]\n",
      " [0.22973736 0.96647811 0.51706048 0.11653039]\n",
      " [0.27601849 0.7595283  0.80449362 0.42240349]\n",
      " [0.61892953 0.31949189 0.83564542 0.43967919]]\n",
      "[0.75069265 0.53100122 0.48637696 0.20811268]\n"
     ]
    }
   ],
   "source": [
    "# First row of matrix a\n",
    "print(a)\n",
    "print(a[0])"
   ]
  },
  {
   "cell_type": "code",
   "execution_count": 69,
   "metadata": {},
   "outputs": [
    {
     "name": "stdout",
     "output_type": "stream",
     "text": [
      "[0.75069265 0.28855746 0.66165029 0.23842237 0.59956754 0.77134511\n",
      " 0.6590291  0.22973736 0.27601849 0.61892953]\n"
     ]
    }
   ],
   "source": [
    "# First column of matrix a\n",
    "print(a[:,0])"
   ]
  },
  {
   "cell_type": "code",
   "execution_count": 70,
   "metadata": {},
   "outputs": [
    {
     "name": "stdout",
     "output_type": "stream",
     "text": [
      "0.7862140808534376\n"
     ]
    }
   ],
   "source": [
    "# Value in the fifth row and third column of matrix a\n",
    "print(a[4,2])"
   ]
  },
  {
   "cell_type": "code",
   "execution_count": 75,
   "metadata": {},
   "outputs": [
    {
     "data": {
      "text/plain": [
       "0.78621408"
      ]
     },
     "execution_count": 75,
     "metadata": {},
     "output_type": "execute_result"
    }
   ],
   "source": [
    "xlist = [[0.75069265, 0.53100122, 0.48637696, 0.20811268],\n",
    " [0.28855746, 0.86233589, 0.82170344, 0.64340505],\n",
    " [0.66165029 ,0.66529042 ,0.82118104 ,0.33245214],\n",
    " [0.23842237, 0.99227012, 0.70958494, 0.78773342],\n",
    " [0.59956754 ,0.72311601 ,0.78621408 ,0.48428124],\n",
    " [0.77134511, 0.90509481, 0.39564717, 0.70004292],\n",
    " [0.6590291  ,0.28677295 ,0.92953274 ,0.43896178],\n",
    " [0.22973736, 0.96647811, 0.51706048, 0.11653039],\n",
    " [0.27601849 ,0.7595283  ,0.80449362 ,0.42240349],\n",
    " [0.61892953, 0.31949189, 0.83564542, 0.43967919]]\n",
    "#third value in fifth sublist\n",
    "xlist[4][2]\n"
   ]
  },
  {
   "cell_type": "code",
   "execution_count": 76,
   "metadata": {},
   "outputs": [
    {
     "name": "stdout",
     "output_type": "stream",
     "text": [
      "[[[0.44663079 0.45587552 0.34027188 0.87870477 0.93915403]\n",
      "  [0.55978169 0.81853125 0.782765   0.30755853 0.74114237]\n",
      "  [0.04763072 0.70659481 0.23311463 0.02229541 0.83197282]\n",
      "  [0.14375095 0.47215241 0.79180787 0.27993674 0.70350349]]\n",
      "\n",
      " [[0.3665001  0.86685626 0.65787738 0.67181739 0.70525825]\n",
      "  [0.11123508 0.37934655 0.12405944 0.92505666 0.76646772]\n",
      "  [0.12351937 0.93124277 0.73067305 0.26628257 0.78452375]\n",
      "  [0.08914688 0.99100968 0.17017203 0.1999631  0.65197426]]\n",
      "\n",
      " [[0.60723534 0.91786533 0.35927988 0.83349414 0.22244334]\n",
      "  [0.30643961 0.75649524 0.03756907 0.83671041 0.16471386]\n",
      "  [0.20445988 0.44138606 0.41151599 0.70515164 0.89430329]\n",
      "  [0.41987159 0.40370205 0.4042362  0.14056436 0.28353539]]]\n"
     ]
    }
   ],
   "source": [
    "# First group of array c\n",
    "print(c[0])"
   ]
  },
  {
   "cell_type": "code",
   "execution_count": 77,
   "metadata": {},
   "outputs": [
    {
     "name": "stdout",
     "output_type": "stream",
     "text": [
      "[[0.3665001  0.86685626 0.65787738 0.67181739 0.70525825]\n",
      " [0.11123508 0.37934655 0.12405944 0.92505666 0.76646772]\n",
      " [0.12351937 0.93124277 0.73067305 0.26628257 0.78452375]\n",
      " [0.08914688 0.99100968 0.17017203 0.1999631  0.65197426]]\n"
     ]
    }
   ],
   "source": [
    "# Second subgroup of the first group\n",
    "print(c[0,1])"
   ]
  },
  {
   "cell_type": "code",
   "execution_count": 91,
   "metadata": {},
   "outputs": [
    {
     "name": "stdout",
     "output_type": "stream",
     "text": [
      "[0.67181739 0.92505666 0.26628257 0.1999631 ]\n",
      "[0.6718173948698819, 0.9250566560295915, 0.2662825704884635, 0.19996310250953375]\n",
      "[0.67181739 0.92505666 0.26628257 0.1999631 ]\n",
      "0.6718173948698819\n",
      "0.9250566560295915\n",
      "0.2662825704884635\n",
      "0.19996310250953375\n"
     ]
    }
   ],
   "source": [
    "# Fourth column of the second subgroup\n",
    "print(c[0,1,:,3])\n",
    "#print(c[:,0])\n",
    "print(list(c[0,1,:,3]))\n",
    "newarr = np.array([0.6718173948698819, 0.9250566560295915, 0.2662825704884635, 0.19996310250953375])\n",
    "print(newarr)\n",
    "for i in newarr:\n",
    "    print(i)"
   ]
  },
  {
   "cell_type": "code",
   "execution_count": 92,
   "metadata": {},
   "outputs": [
    {
     "name": "stdout",
     "output_type": "stream",
     "text": [
      "0.2662825704884635\n"
     ]
    }
   ],
   "source": [
    "# Value in the third row and fourth column of the second subgroup of the first group\n",
    "print(c[0,1,2,3])"
   ]
  },
  {
   "cell_type": "code",
   "execution_count": 93,
   "metadata": {},
   "outputs": [
    {
     "name": "stdout",
     "output_type": "stream",
     "text": [
      "[[1 2 3]\n",
      " [4 5 6]\n",
      " [7 8 9]]\n"
     ]
    }
   ],
   "source": [
    "lst_lst = [[1,2,3],[4,5,6],[7,8,9]]\n",
    "d = np.array(lst_lst)\n",
    "print(d)"
   ]
  },
  {
   "cell_type": "code",
   "execution_count": 95,
   "metadata": {},
   "outputs": [
    {
     "name": "stdout",
     "output_type": "stream",
     "text": [
      "45\n"
     ]
    }
   ],
   "source": [
    "# Sum of all elements in matrix a\n",
    "print(np.sum(a))"
   ]
  },
  {
   "cell_type": "code",
   "execution_count": 96,
   "metadata": {},
   "outputs": [
    {
     "name": "stdout",
     "output_type": "stream",
     "text": [
      "[5.0939499  7.01137972 7.10743988 4.57360231]\n"
     ]
    }
   ],
   "source": [
    "# Sum of each column in matrix a\n",
    "print(np.sum(a, axis=0))"
   ]
  },
  {
   "cell_type": "code",
   "execution_count": 97,
   "metadata": {},
   "outputs": [
    {
     "name": "stdout",
     "output_type": "stream",
     "text": [
      "[1.97618351 2.61600183 2.48057389 2.72801085 2.59317887 2.77213\n",
      " 2.31429658 1.82980634 2.2624439  2.21374603]\n"
     ]
    }
   ],
   "source": [
    "# Sum of each row in matrix a\n",
    "print(np.sum(a, axis=1))"
   ]
  },
  {
   "cell_type": "code",
   "execution_count": 98,
   "metadata": {},
   "outputs": [
    {
     "data": {
      "text/plain": [
       "5.9284017827958"
      ]
     },
     "execution_count": 98,
     "metadata": {},
     "output_type": "execute_result"
    }
   ],
   "source": [
    "# Sum of all the elements in the first two groups of array b\n",
    "np.sum(b[:2])"
   ]
  },
  {
   "cell_type": "code",
   "execution_count": 100,
   "metadata": {},
   "outputs": [
    {
     "name": "stdout",
     "output_type": "stream",
     "text": [
      "23.7863718126987\n"
     ]
    }
   ],
   "source": [
    "# Mean of all elements in matrix a\n",
    "print(np.mean(a))\n"
   ]
  },
  {
   "cell_type": "code",
   "execution_count": 101,
   "metadata": {},
   "outputs": [
    {
     "name": "stdout",
     "output_type": "stream",
     "text": [
      "[0.50939499 0.70113797 0.71074399 0.45736023]\n"
     ]
    }
   ],
   "source": [
    "# Mean of each column in matrix a\n",
    "print(np.mean(a, axis=0))"
   ]
  },
  {
   "cell_type": "code",
   "execution_count": 102,
   "metadata": {},
   "outputs": [
    {
     "name": "stdout",
     "output_type": "stream",
     "text": [
      "[0.49404588 0.65400046 0.62014347 0.68200271 0.64829472 0.6930325\n",
      " 0.57857414 0.45745159 0.56561097 0.55343651]\n"
     ]
    }
   ],
   "source": [
    "# Mean of each row in matrix a\n",
    "print(np.mean(a, axis=1))"
   ]
  },
  {
   "cell_type": "code",
   "execution_count": 103,
   "metadata": {},
   "outputs": [
    {
     "data": {
      "text/plain": [
       "0.49403348189964996"
      ]
     },
     "execution_count": 103,
     "metadata": {},
     "output_type": "execute_result"
    }
   ],
   "source": [
    "# Mean of all the elements in the first two groups of array b\n",
    "np.mean(b[:2])"
   ]
  },
  {
   "cell_type": "code",
   "execution_count": 104,
   "metadata": {},
   "outputs": [
    {
     "name": "stdout",
     "output_type": "stream",
     "text": [
      "[[0.44663079 0.45587552 0.34027188 0.87870477 0.93915403]\n",
      " [0.55978169 0.81853125 0.782765   0.30755853 0.74114237]\n",
      " [0.04763072 0.70659481 0.23311463 0.02229541 0.83197282]\n",
      " [0.14375095 0.47215241 0.79180787 0.27993674 0.70350349]]\n"
     ]
    }
   ],
   "source": [
    "x = c[0,0]\n",
    "print(x)"
   ]
  },
  {
   "cell_type": "code",
   "execution_count": 105,
   "metadata": {},
   "outputs": [
    {
     "name": "stdout",
     "output_type": "stream",
     "text": [
      "[[0.3665001  0.86685626 0.65787738 0.67181739 0.70525825]\n",
      " [0.11123508 0.37934655 0.12405944 0.92505666 0.76646772]\n",
      " [0.12351937 0.93124277 0.73067305 0.26628257 0.78452375]\n",
      " [0.08914688 0.99100968 0.17017203 0.1999631  0.65197426]]\n"
     ]
    }
   ],
   "source": [
    "y = c[0,1]\n",
    "print(y)"
   ]
  },
  {
   "cell_type": "code",
   "execution_count": 106,
   "metadata": {},
   "outputs": [
    {
     "name": "stdout",
     "output_type": "stream",
     "text": [
      "[[0.81313089 1.32273178 0.99814925 1.55052216 1.64441228]\n",
      " [0.67101677 1.19787779 0.90682444 1.23261519 1.50761009]\n",
      " [0.17115009 1.63783757 0.96378768 0.28857798 1.61649656]\n",
      " [0.23289783 1.46316209 0.9619799  0.47989985 1.35547775]]\n"
     ]
    }
   ],
   "source": [
    "# Add elements of x and y together\n",
    "print(np.add(x, y))"
   ]
  },
  {
   "cell_type": "code",
   "execution_count": 107,
   "metadata": {},
   "outputs": [
    {
     "name": "stdout",
     "output_type": "stream",
     "text": [
      "[[-0.08013069  0.41098074  0.3176055  -0.20688737 -0.23389579]\n",
      " [-0.44854661 -0.4391847  -0.65870556  0.61749812  0.02532535]\n",
      " [ 0.07588866  0.22464796  0.49755842  0.24398716 -0.04744907]\n",
      " [-0.05460407  0.51885727 -0.62163585 -0.07997364 -0.05152923]]\n"
     ]
    }
   ],
   "source": [
    "# Subtract elements of x from elements of y\n",
    "print(np.subtract(y, x))"
   ]
  },
  {
   "cell_type": "code",
   "execution_count": 108,
   "metadata": {},
   "outputs": [
    {
     "name": "stdout",
     "output_type": "stream",
     "text": [
      "[[0.16369023 0.39517855 0.22385717 0.59032915 0.66234613]\n",
      " [0.06226736 0.310507   0.09710939 0.28450907 0.5680617 ]\n",
      " [0.00588332 0.6580113  0.17033058 0.00593688 0.65270243]\n",
      " [0.01281495 0.46790761 0.13474355 0.05597702 0.45866617]]\n"
     ]
    }
   ],
   "source": [
    "# Multiply elements of x and y together\n",
    "print(np.multiply(x, y))"
   ]
  },
  {
   "cell_type": "code",
   "execution_count": 109,
   "metadata": {},
   "outputs": [
    {
     "name": "stdout",
     "output_type": "stream",
     "text": [
      "[[ 0.82058851  1.90151965  1.93338744  0.76455417  0.75095056]\n",
      " [ 0.19871154  0.46344785  0.15848874  3.00774181  1.03417069]\n",
      " [ 2.59327145  1.31793039  3.13439382 11.94338168  0.942968  ]\n",
      " [ 0.6201481   2.09891902  0.2149158   0.71431531  0.92675341]]\n"
     ]
    }
   ],
   "source": [
    "# Divide elements of y by elements of x\n",
    "print(np.divide(y, x))"
   ]
  },
  {
   "cell_type": "code",
   "execution_count": 110,
   "metadata": {},
   "outputs": [
    {
     "name": "stdout",
     "output_type": "stream",
     "text": [
      "CPU times: user 65.2 ms, sys: 2.12 ms, total: 67.3 ms\n",
      "Wall time: 66.5 ms\n"
     ]
    }
   ],
   "source": [
    "%%time\n",
    "for i in range(100000):\n",
    "    z = np.multiply(x, y)"
   ]
  },
  {
   "cell_type": "code",
   "execution_count": 112,
   "metadata": {},
   "outputs": [],
   "source": [
    "import random\n",
    "x_list = [[random.random() for j in range(5)] for i in range(4)]\n",
    "y_list = [[random.random() for j in range(5)] for i in range(4)]"
   ]
  },
  {
   "cell_type": "code",
   "execution_count": 113,
   "metadata": {},
   "outputs": [
    {
     "name": "stdout",
     "output_type": "stream",
     "text": [
      "[[0.26272400309758204, 0.08459852738972748, 0.06599827724289356, 0.07464754460906868, 0.2945765513324983], [0.38853234695592964, 0.4627130589581721, 0.3660061778336424, 0.021429392089002876, 0.10807031406473692], [0.5286299466842767, 0.14128465013956942, 0.07658141348995316, 0.48758680773363794, 0.2530539332039517], [0.016216285844986918, 0.15135248440270915, 0.3563239350646966, 0.15012921700880716, 0.24011820063047357]]\n",
      "CPU times: user 754 ms, sys: 3.7 ms, total: 757 ms\n",
      "Wall time: 757 ms\n"
     ]
    }
   ],
   "source": [
    "%%time\n",
    "for i in range(100000):\n",
    "    z = []\n",
    "    for i in range(4):\n",
    "        innerlist = []\n",
    "        for j in range(5):\n",
    "            innerlist.append(x_list[i][j]*y_list[i][j])\n",
    "        z.append(innerlist)\n",
    "\n",
    "print(z)\n",
    "    "
   ]
  },
  {
   "cell_type": "code",
   "execution_count": 114,
   "metadata": {},
   "outputs": [
    {
     "name": "stdout",
     "output_type": "stream",
     "text": [
      "CPU times: user 6.43 ms, sys: 315 µs, total: 6.74 ms\n",
      "Wall time: 6.82 ms\n"
     ]
    }
   ],
   "source": [
    "%%time\n",
    "for i in range(100):\n",
    "    x_new = [j for j in range(1000)]\n",
    "    \n",
    "#print(x)"
   ]
  },
  {
   "cell_type": "code",
   "execution_count": 115,
   "metadata": {},
   "outputs": [
    {
     "name": "stdout",
     "output_type": "stream",
     "text": [
      "CPU times: user 17.6 ms, sys: 1.39 ms, total: 19 ms\n",
      "Wall time: 17.9 ms\n"
     ]
    }
   ],
   "source": [
    "%%time\n",
    "for i in range(100):\n",
    "    x = []\n",
    "    for j in range(1000):\n",
    "        x.append(j)\n",
    "    \n",
    "#print(x)"
   ]
  },
  {
   "cell_type": "code",
   "execution_count": null,
   "metadata": {},
   "outputs": [],
   "source": []
  }
 ],
 "metadata": {
  "kernelspec": {
   "display_name": "Python 3",
   "language": "python",
   "name": "python3"
  },
  "language_info": {
   "codemirror_mode": {
    "name": "ipython",
    "version": 3
   },
   "file_extension": ".py",
   "mimetype": "text/x-python",
   "name": "python",
   "nbconvert_exporter": "python",
   "pygments_lexer": "ipython3",
   "version": "3.7.4"
  }
 },
 "nbformat": 4,
 "nbformat_minor": 2
}
