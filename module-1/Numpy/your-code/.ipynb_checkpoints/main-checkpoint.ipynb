{
 "cells": [
  {
   "cell_type": "markdown",
   "metadata": {},
   "source": [
    "# Intrduction to NumPy\n",
    "\n",
    "\n",
    "#### 1. Import NumPy under the name np."
   ]
  },
  {
   "cell_type": "code",
   "execution_count": 12,
   "metadata": {},
   "outputs": [],
   "source": [
    "# your code here\n",
    "import numpy as np"
   ]
  },
  {
   "cell_type": "markdown",
   "metadata": {},
   "source": [
    "#### 2. Print your NumPy version."
   ]
  },
  {
   "cell_type": "code",
   "execution_count": 13,
   "metadata": {},
   "outputs": [
    {
     "data": {
      "text/plain": [
       "'1.17.2'"
      ]
     },
     "execution_count": 13,
     "metadata": {},
     "output_type": "execute_result"
    }
   ],
   "source": [
    "# your code here\n",
    "np.version.version"
   ]
  },
  {
   "cell_type": "markdown",
   "metadata": {},
   "source": [
    "#### 3. Generate a 2x3x5 3-dimensional array with random values. Assign the array to variable *a*.\n",
    "**Challenge**: there are at least three easy ways that use numpy to generate random arrays. How many ways can you find?"
   ]
  },
  {
   "cell_type": "code",
   "execution_count": 14,
   "metadata": {},
   "outputs": [
    {
     "name": "stdout",
     "output_type": "stream",
     "text": [
      "[[[0.03387762 0.65748464 0.5349026  0.6665584  0.4413407 ]\n",
      "  [0.27247146 0.94966894 0.72826944 0.00632394 0.09932776]\n",
      "  [0.63169225 0.28803683 0.40762168 0.78153112 0.35414554]]\n",
      "\n",
      " [[0.9258086  0.72045212 0.55192644 0.18096484 0.40959139]\n",
      "  [0.76288179 0.99079682 0.07365237 0.13475261 0.74004473]\n",
      "  [0.83378137 0.08877286 0.82941795 0.78673231 0.68822127]]]\n"
     ]
    }
   ],
   "source": [
    "# Method 1\n",
    "a = np.random.random((2,3,5))\n",
    "print(a)"
   ]
  },
  {
   "cell_type": "code",
   "execution_count": 15,
   "metadata": {},
   "outputs": [
    {
     "name": "stdout",
     "output_type": "stream",
     "text": [
      "[[[0.03387762 0.65748464 0.5349026  0.6665584  0.4413407 ]\n",
      "  [0.27247146 0.94966894 0.72826944 0.00632394 0.09932776]\n",
      "  [0.63169225 0.28803683 0.40762168 0.78153112 0.35414554]]\n",
      "\n",
      " [[0.9258086  0.72045212 0.55192644 0.18096484 0.40959139]\n",
      "  [0.76288179 0.99079682 0.07365237 0.13475261 0.74004473]\n",
      "  [0.83378137 0.08877286 0.82941795 0.78673231 0.68822127]]]\n"
     ]
    }
   ],
   "source": [
    "# Method 2\n",
    "a2 = np.random.rand(2,3,5)\n",
    "print(a)"
   ]
  },
  {
   "cell_type": "code",
   "execution_count": 16,
   "metadata": {},
   "outputs": [
    {
     "name": "stdout",
     "output_type": "stream",
     "text": [
      "[[[0.03387762 0.65748464 0.5349026  0.6665584  0.4413407 ]\n",
      "  [0.27247146 0.94966894 0.72826944 0.00632394 0.09932776]\n",
      "  [0.63169225 0.28803683 0.40762168 0.78153112 0.35414554]]\n",
      "\n",
      " [[0.9258086  0.72045212 0.55192644 0.18096484 0.40959139]\n",
      "  [0.76288179 0.99079682 0.07365237 0.13475261 0.74004473]\n",
      "  [0.83378137 0.08877286 0.82941795 0.78673231 0.68822127]]]\n"
     ]
    }
   ],
   "source": [
    "# Method 3\n",
    "a3 = np.random.randn(2,3,5)\n",
    "print(a)"
   ]
  },
  {
   "cell_type": "markdown",
   "metadata": {},
   "source": [
    "#### 4. Print *a*.\n"
   ]
  },
  {
   "cell_type": "code",
   "execution_count": 17,
   "metadata": {},
   "outputs": [
    {
     "name": "stdout",
     "output_type": "stream",
     "text": [
      "[[[0.03387762 0.65748464 0.5349026  0.6665584  0.4413407 ]\n",
      "  [0.27247146 0.94966894 0.72826944 0.00632394 0.09932776]\n",
      "  [0.63169225 0.28803683 0.40762168 0.78153112 0.35414554]]\n",
      "\n",
      " [[0.9258086  0.72045212 0.55192644 0.18096484 0.40959139]\n",
      "  [0.76288179 0.99079682 0.07365237 0.13475261 0.74004473]\n",
      "  [0.83378137 0.08877286 0.82941795 0.78673231 0.68822127]]]\n"
     ]
    }
   ],
   "source": [
    "# your code here\n",
    "print(a)"
   ]
  },
  {
   "cell_type": "markdown",
   "metadata": {},
   "source": [
    "#### 5. Create a 5x2x3 3-dimensional array with all values equaling 1. Assign the array to variable *b*."
   ]
  },
  {
   "cell_type": "code",
   "execution_count": 18,
   "metadata": {},
   "outputs": [],
   "source": [
    "# your code here\n",
    "b = np.ones((5,2,3))"
   ]
  },
  {
   "cell_type": "markdown",
   "metadata": {},
   "source": [
    "#### 6. Print *b*.\n"
   ]
  },
  {
   "cell_type": "code",
   "execution_count": 19,
   "metadata": {},
   "outputs": [
    {
     "name": "stdout",
     "output_type": "stream",
     "text": [
      "[[[1. 1. 1.]\n",
      "  [1. 1. 1.]]\n",
      "\n",
      " [[1. 1. 1.]\n",
      "  [1. 1. 1.]]\n",
      "\n",
      " [[1. 1. 1.]\n",
      "  [1. 1. 1.]]\n",
      "\n",
      " [[1. 1. 1.]\n",
      "  [1. 1. 1.]]\n",
      "\n",
      " [[1. 1. 1.]\n",
      "  [1. 1. 1.]]]\n"
     ]
    }
   ],
   "source": [
    "# your code here\n",
    "print(b)"
   ]
  },
  {
   "cell_type": "markdown",
   "metadata": {},
   "source": [
    "#### 7. Do *a* and *b* have the same size? How do you prove that in Python code?"
   ]
  },
  {
   "cell_type": "code",
   "execution_count": 20,
   "metadata": {},
   "outputs": [
    {
     "data": {
      "text/plain": [
       "True"
      ]
     },
     "execution_count": 20,
     "metadata": {},
     "output_type": "execute_result"
    }
   ],
   "source": [
    "# your code here\n",
    "a.size == b.size"
   ]
  },
  {
   "cell_type": "markdown",
   "metadata": {},
   "source": [
    "#### 8. Are you able to add *a* and *b*? Why or why not?\n"
   ]
  },
  {
   "cell_type": "code",
   "execution_count": 21,
   "metadata": {},
   "outputs": [
    {
     "name": "stdout",
     "output_type": "stream",
     "text": [
      "We can't add a and b because they are of different shapes\n"
     ]
    }
   ],
   "source": [
    "# your answer here\n",
    "print(\"We can't add a and b because they are of different shapes\")"
   ]
  },
  {
   "cell_type": "markdown",
   "metadata": {},
   "source": [
    "#### 9. Transpose *b* so that it has the same structure of *a* (i.e. become a 2x3x5 array). Assign the transposed array to variable *c*."
   ]
  },
  {
   "cell_type": "code",
   "execution_count": 22,
   "metadata": {},
   "outputs": [
    {
     "data": {
      "text/plain": [
       "(2, 3, 5)"
      ]
     },
     "execution_count": 22,
     "metadata": {},
     "output_type": "execute_result"
    }
   ],
   "source": [
    "# your code here\n",
    "\n",
    "# I'm not sure what it means to transpose a 3D matrix\n",
    "c = np.transpose(b, (1, 2, 0))\n",
    "c.shape"
   ]
  },
  {
   "cell_type": "markdown",
   "metadata": {},
   "source": [
    "#### 10. Try to add *a* and *c*. Now it should work. Assign the sum to variable *d*. But why does it work now?"
   ]
  },
  {
   "cell_type": "code",
   "execution_count": 23,
   "metadata": {},
   "outputs": [],
   "source": [
    "# your code/answer here\n",
    "d = a + c"
   ]
  },
  {
   "cell_type": "markdown",
   "metadata": {},
   "source": [
    "#### 11. Print *a* and *d*. Notice the difference and relation of the two array in terms of the values? Explain."
   ]
  },
  {
   "cell_type": "code",
   "execution_count": 24,
   "metadata": {},
   "outputs": [
    {
     "name": "stdout",
     "output_type": "stream",
     "text": [
      "[[[0.03387762 0.65748464 0.5349026  0.6665584  0.4413407 ]\n",
      "  [0.27247146 0.94966894 0.72826944 0.00632394 0.09932776]\n",
      "  [0.63169225 0.28803683 0.40762168 0.78153112 0.35414554]]\n",
      "\n",
      " [[0.9258086  0.72045212 0.55192644 0.18096484 0.40959139]\n",
      "  [0.76288179 0.99079682 0.07365237 0.13475261 0.74004473]\n",
      "  [0.83378137 0.08877286 0.82941795 0.78673231 0.68822127]]] \n",
      "\n",
      "\n",
      "[[[1.03387762 1.65748464 1.5349026  1.6665584  1.4413407 ]\n",
      "  [1.27247146 1.94966894 1.72826944 1.00632394 1.09932776]\n",
      "  [1.63169225 1.28803683 1.40762168 1.78153112 1.35414554]]\n",
      "\n",
      " [[1.9258086  1.72045212 1.55192644 1.18096484 1.40959139]\n",
      "  [1.76288179 1.99079682 1.07365237 1.13475261 1.74004473]\n",
      "  [1.83378137 1.08877286 1.82941795 1.78673231 1.68822127]]] \n",
      "\n",
      "\n",
      "d = 1 + a for each element of d and a. This happens because we are\n"
     ]
    }
   ],
   "source": [
    "# your code/answer here\n",
    "print(a, '\\n\\n')\n",
    "print(d, '\\n\\n')\n",
    "print('d = 1 + a for each element of d and a. This happens because we are')"
   ]
  },
  {
   "cell_type": "markdown",
   "metadata": {},
   "source": [
    "#### 12. Multiply *a* and *c*. Assign the result to *e*."
   ]
  },
  {
   "cell_type": "code",
   "execution_count": 25,
   "metadata": {},
   "outputs": [
    {
     "name": "stdout",
     "output_type": "stream",
     "text": [
      "[[[1. 1. 1. 1. 1.]\n",
      "  [1. 1. 1. 1. 1.]\n",
      "  [1. 1. 1. 1. 1.]]\n",
      "\n",
      " [[1. 1. 1. 1. 1.]\n",
      "  [1. 1. 1. 1. 1.]\n",
      "  [1. 1. 1. 1. 1.]]]\n"
     ]
    }
   ],
   "source": [
    "# your code here\n",
    "e = a * c\n",
    "print(c)"
   ]
  },
  {
   "cell_type": "markdown",
   "metadata": {},
   "source": [
    "#### 13. Does *e* equal to *a*? Why or why not?\n"
   ]
  },
  {
   "cell_type": "code",
   "execution_count": 26,
   "metadata": {},
   "outputs": [
    {
     "name": "stdout",
     "output_type": "stream",
     "text": [
      "[[[ True  True  True  True  True]\n",
      "  [ True  True  True  True  True]\n",
      "  [ True  True  True  True  True]]\n",
      "\n",
      " [[ True  True  True  True  True]\n",
      "  [ True  True  True  True  True]\n",
      "  [ True  True  True  True  True]]] \n",
      "\n",
      "\n",
      "e is equal to a because the multiplication of a and c is done element by element and every element of c is equal to 1\n"
     ]
    }
   ],
   "source": [
    "# your code/answer here\n",
    "print(e == a, '\\n\\n')\n",
    "print('e is equal to a because the multiplication of a and c is done element by element and every element of c is equal to 1')"
   ]
  },
  {
   "cell_type": "markdown",
   "metadata": {},
   "source": [
    "#### 14. Identify the max, min, and mean values in *d*. Assign those values to variables *d_max*, *d_min* and *d_mean*."
   ]
  },
  {
   "cell_type": "code",
   "execution_count": 27,
   "metadata": {},
   "outputs": [],
   "source": [
    "# your code here\n",
    "d_max = d.max()\n",
    "d_min = d.min()\n",
    "d_mean = d.mean()"
   ]
  },
  {
   "cell_type": "markdown",
   "metadata": {},
   "source": [
    "#### 15. Now we want to label the values in *d*. First create an empty array *f* with the same shape (i.e. 2x3x5) as *d* using `np.empty`.\n"
   ]
  },
  {
   "cell_type": "code",
   "execution_count": 28,
   "metadata": {},
   "outputs": [
    {
     "name": "stdout",
     "output_type": "stream",
     "text": [
      "[[[1. 1. 1. 1. 1.]\n",
      "  [1. 1. 1. 1. 1.]\n",
      "  [1. 1. 1. 1. 1.]]\n",
      "\n",
      " [[1. 1. 1. 1. 1.]\n",
      "  [1. 1. 1. 1. 1.]\n",
      "  [1. 1. 1. 1. 1.]]]\n"
     ]
    }
   ],
   "source": [
    "# your code here\n",
    "f = np.empty((2,3,5))\n",
    "print(f)"
   ]
  },
  {
   "cell_type": "markdown",
   "metadata": {},
   "source": [
    "#### 16. Populate the values in *f*. \n",
    "\n",
    "For each value in *d*, if it's larger than *d_min* but smaller than *d_mean*, assign 25 to the corresponding value in *f*. If a value in *d* is larger than *d_mean* but smaller than *d_max*, assign 75 to the corresponding value in *f*. If a value equals to *d_mean*, assign 50 to the corresponding value in *f*. Assign 0 to the corresponding value(s) in *f* for *d_min* in *d*. Assign 100 to the corresponding value(s) in *f* for *d_max* in *d*. In the end, f should have only the following values: 0, 25, 50, 75, and 100.\n",
    "\n",
    "**Note**: you don't have to use Numpy in this question."
   ]
  },
  {
   "cell_type": "code",
   "execution_count": 29,
   "metadata": {},
   "outputs": [],
   "source": [
    "# your code here\n",
    "\n",
    "(x, y, z) = d.shape\n",
    "for i in range(x):\n",
    "    for j in range(y):\n",
    "        for k in range(z):\n",
    "            if d[i][j][k] == d_min:\n",
    "                f[i][j][k] = 0\n",
    "            elif d_min < d[i][j][k] < d_mean:\n",
    "                f[i][j][k] = 25\n",
    "            elif d[i][j][k] == d_mean:\n",
    "                f[i][j][k] = 50\n",
    "            elif d_mean < d[i][j][k] < d_max:\n",
    "                f[i][j][k] = 75\n",
    "            else:\n",
    "                f[i][j][k] = 100"
   ]
  },
  {
   "cell_type": "markdown",
   "metadata": {},
   "source": [
    "#### 17. Print *d* and *f*. Do you have your expected *f*?\n",
    "For instance, if your *d* is:\n",
    "```python\n",
    "[[[1.85836099, 1.67064465, 1.62576044, 1.40243961, 1.88454931],\n",
    "[1.75354326, 1.69403643, 1.36729252, 1.61415071, 1.12104981],\n",
    "[1.72201435, 1.1862918 , 1.87078449, 1.7726778 , 1.88180042]],\n",
    "[[1.44747908, 1.31673383, 1.02000951, 1.52218947, 1.97066381],\n",
    "[1.79129243, 1.74983003, 1.96028037, 1.85166831, 1.65450881],\n",
    "[1.18068344, 1.9587381 , 1.00656599, 1.93402165, 1.73514584]]]\n",
    "```\n",
    "Your *f* should be:\n",
    "```python\n",
    "[[[ 75.,  75.,  75.,  25.,  75.],\n",
    "[ 75.,  75.,  25.,  25.,  25.],\n",
    "[ 75.,  25.,  75.,  75.,  75.]],\n",
    "[[ 25.,  25.,  25.,  25., 100.],\n",
    "[ 75.,  75.,  75.,  75.,  75.],\n",
    "[ 25.,  75.,   0.,  75.,  75.]]]\n",
    "```"
   ]
  },
  {
   "cell_type": "code",
   "execution_count": 30,
   "metadata": {},
   "outputs": [
    {
     "name": "stdout",
     "output_type": "stream",
     "text": [
      "[[[1.03387762 1.65748464 1.5349026  1.6665584  1.4413407 ]\n",
      "  [1.27247146 1.94966894 1.72826944 1.00632394 1.09932776]\n",
      "  [1.63169225 1.28803683 1.40762168 1.78153112 1.35414554]]\n",
      "\n",
      " [[1.9258086  1.72045212 1.55192644 1.18096484 1.40959139]\n",
      "  [1.76288179 1.99079682 1.07365237 1.13475261 1.74004473]\n",
      "  [1.83378137 1.08877286 1.82941795 1.78673231 1.68822127]]] \n",
      "\n",
      "\n",
      "[[[ 25.  75.  75.  75.  25.]\n",
      "  [ 25.  75.  75.   0.  25.]\n",
      "  [ 75.  25.  25.  75.  25.]]\n",
      "\n",
      " [[ 75.  75.  75.  25.  25.]\n",
      "  [ 75. 100.  25.  25.  75.]\n",
      "  [ 75.  25.  75.  75.  75.]]]\n"
     ]
    }
   ],
   "source": [
    "print(d, '\\n\\n')\n",
    "print(f)"
   ]
  },
  {
   "cell_type": "markdown",
   "metadata": {},
   "source": [
    "#### 18. Bonus question: instead of using numbers (i.e. 0, 25, 50, 75, and 100), use string values  (\"A\", \"B\", \"C\", \"D\", and \"E\") to label the array elements. For the example above, the expected result is:\n",
    "\n",
    "```python\n",
    "[[[ 'D',  'D',  'D',  'B',  'D'],\n",
    "[ 'D',  'D',  'B',  'B',  'B'],\n",
    "[ 'D',  'B',  'D',  'D',  'D']],\n",
    "[[ 'B',  'B',  'B',  'B',  'E'],\n",
    "[ 'D',  'D',  'D',  'D',  'D'],\n",
    "[ 'B',  'D',   'A',  'D', 'D']]]\n",
    "```\n",
    "**Note**: you don't have to use Numpy in this question."
   ]
  },
  {
   "cell_type": "code",
   "execution_count": 31,
   "metadata": {},
   "outputs": [
    {
     "name": "stdout",
     "output_type": "stream",
     "text": [
      "[[[ 25.  75.  75.  75.  25.]\n",
      "  [ 25.  75.  75.   0.  25.]\n",
      "  [ 75.  25.  25.  75.  25.]]\n",
      "\n",
      " [[ 75.  75.  75.  25.  25.]\n",
      "  [ 75. 100.  25.  25.  75.]\n",
      "  [ 75.  25.  75.  75.  75.]]]\n"
     ]
    }
   ],
   "source": [
    "# your code here\n",
    "\n",
    "# I haven't figured out this one yet\n",
    "\n",
    "(x, y, z) = d.shape\n",
    "for i in range(x):\n",
    "    for j in range(y):\n",
    "        for k in range(z):\n",
    "            if d[i][j][k] == d_min:\n",
    "                f.astype(str, copy=False)[i][j][k] = 'A'\n",
    "            elif d_min < d[i][j][k] < d_mean:\n",
    "                f.astype(str)[i][j][k] = 'B'\n",
    "            elif d[i][j][k] == d_mean:\n",
    "                f.astype(str)[i][j][k] = 'C'\n",
    "            elif d_mean < d[i][j][k] < d_max:\n",
    "                f.astype(str)[i][j][k] = 'D'\n",
    "            else:\n",
    "                f.astype(str)[i][j][k] = 'E'\n",
    "\n",
    "print(f)"
   ]
  },
  {
   "cell_type": "code",
   "execution_count": null,
   "metadata": {},
   "outputs": [],
   "source": []
  },
  {
   "cell_type": "code",
   "execution_count": null,
   "metadata": {},
   "outputs": [],
   "source": []
  }
 ],
 "metadata": {
  "kernelspec": {
   "display_name": "Python 3",
   "language": "python",
   "name": "python3"
  },
  "language_info": {
   "codemirror_mode": {
    "name": "ipython",
    "version": 3
   },
   "file_extension": ".py",
   "mimetype": "text/x-python",
   "name": "python",
   "nbconvert_exporter": "python",
   "pygments_lexer": "ipython3",
   "version": "3.7.4"
  }
 },
 "nbformat": 4,
 "nbformat_minor": 2
}
