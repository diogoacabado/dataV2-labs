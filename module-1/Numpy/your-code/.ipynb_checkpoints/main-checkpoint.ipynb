{
 "cells": [
  {
   "cell_type": "markdown",
   "metadata": {},
   "source": [
    "# Intrduction to NumPy\n",
    "\n",
    "\n",
    "#### 1. Import NumPy under the name np."
   ]
  },
  {
   "cell_type": "code",
   "execution_count": 1,
   "metadata": {},
   "outputs": [],
   "source": [
    "# your code here\n",
    "import numpy as np"
   ]
  },
  {
   "cell_type": "markdown",
   "metadata": {},
   "source": [
    "#### 2. Print your NumPy version."
   ]
  },
  {
   "cell_type": "code",
   "execution_count": 2,
   "metadata": {},
   "outputs": [
    {
     "data": {
      "text/plain": [
       "'1.17.2'"
      ]
     },
     "execution_count": 2,
     "metadata": {},
     "output_type": "execute_result"
    }
   ],
   "source": [
    "# your code here\n",
    "np.version.version"
   ]
  },
  {
   "cell_type": "markdown",
   "metadata": {},
   "source": [
    "#### 3. Generate a 2x3x5 3-dimensional array with random values. Assign the array to variable *a*.\n",
    "**Challenge**: there are at least three easy ways that use numpy to generate random arrays. How many ways can you find?"
   ]
  },
  {
   "cell_type": "code",
   "execution_count": 3,
   "metadata": {},
   "outputs": [
    {
     "name": "stdout",
     "output_type": "stream",
     "text": [
      "[[[0.13240703 0.17705108 0.51908147 0.78469061 0.29213907]\n",
      "  [0.93244135 0.66994259 0.80021015 0.24034491 0.06361609]\n",
      "  [0.68946875 0.94603788 0.78588424 0.04043682 0.56805483]]\n",
      "\n",
      " [[0.88444605 0.50935901 0.12524132 0.67231257 0.47068053]\n",
      "  [0.82308299 0.02062442 0.31954391 0.19244249 0.21543089]\n",
      "  [0.41298382 0.63714464 0.92110599 0.54341014 0.57456228]]]\n"
     ]
    }
   ],
   "source": [
    "# Method 1\n",
    "a = np.random.random((2,3,5))\n",
    "print(a)"
   ]
  },
  {
   "cell_type": "code",
   "execution_count": 4,
   "metadata": {},
   "outputs": [
    {
     "name": "stdout",
     "output_type": "stream",
     "text": [
      "[[[0.13240703 0.17705108 0.51908147 0.78469061 0.29213907]\n",
      "  [0.93244135 0.66994259 0.80021015 0.24034491 0.06361609]\n",
      "  [0.68946875 0.94603788 0.78588424 0.04043682 0.56805483]]\n",
      "\n",
      " [[0.88444605 0.50935901 0.12524132 0.67231257 0.47068053]\n",
      "  [0.82308299 0.02062442 0.31954391 0.19244249 0.21543089]\n",
      "  [0.41298382 0.63714464 0.92110599 0.54341014 0.57456228]]]\n"
     ]
    }
   ],
   "source": [
    "# Method 2\n",
    "a2 = np.random.rand(2,3,5)\n",
    "print(a)"
   ]
  },
  {
   "cell_type": "code",
   "execution_count": 5,
   "metadata": {},
   "outputs": [
    {
     "name": "stdout",
     "output_type": "stream",
     "text": [
      "[[[0.13240703 0.17705108 0.51908147 0.78469061 0.29213907]\n",
      "  [0.93244135 0.66994259 0.80021015 0.24034491 0.06361609]\n",
      "  [0.68946875 0.94603788 0.78588424 0.04043682 0.56805483]]\n",
      "\n",
      " [[0.88444605 0.50935901 0.12524132 0.67231257 0.47068053]\n",
      "  [0.82308299 0.02062442 0.31954391 0.19244249 0.21543089]\n",
      "  [0.41298382 0.63714464 0.92110599 0.54341014 0.57456228]]]\n"
     ]
    }
   ],
   "source": [
    "# Method 3\n",
    "a3 = np.random.randn(2,3,5)\n",
    "print(a)"
   ]
  },
  {
   "cell_type": "markdown",
   "metadata": {},
   "source": [
    "#### 4. Print *a*.\n"
   ]
  },
  {
   "cell_type": "code",
   "execution_count": 6,
   "metadata": {},
   "outputs": [
    {
     "name": "stdout",
     "output_type": "stream",
     "text": [
      "[[[0.13240703 0.17705108 0.51908147 0.78469061 0.29213907]\n",
      "  [0.93244135 0.66994259 0.80021015 0.24034491 0.06361609]\n",
      "  [0.68946875 0.94603788 0.78588424 0.04043682 0.56805483]]\n",
      "\n",
      " [[0.88444605 0.50935901 0.12524132 0.67231257 0.47068053]\n",
      "  [0.82308299 0.02062442 0.31954391 0.19244249 0.21543089]\n",
      "  [0.41298382 0.63714464 0.92110599 0.54341014 0.57456228]]]\n"
     ]
    }
   ],
   "source": [
    "# your code here\n",
    "print(a)"
   ]
  },
  {
   "cell_type": "markdown",
   "metadata": {},
   "source": [
    "#### 5. Create a 5x2x3 3-dimensional array with all values equaling 1. Assign the array to variable *b*."
   ]
  },
  {
   "cell_type": "code",
   "execution_count": 7,
   "metadata": {},
   "outputs": [],
   "source": [
    "# your code here\n",
    "b = np.ones((5,2,3))"
   ]
  },
  {
   "cell_type": "markdown",
   "metadata": {},
   "source": [
    "#### 6. Print *b*.\n"
   ]
  },
  {
   "cell_type": "code",
   "execution_count": 8,
   "metadata": {},
   "outputs": [
    {
     "name": "stdout",
     "output_type": "stream",
     "text": [
      "[[[1. 1. 1.]\n",
      "  [1. 1. 1.]]\n",
      "\n",
      " [[1. 1. 1.]\n",
      "  [1. 1. 1.]]\n",
      "\n",
      " [[1. 1. 1.]\n",
      "  [1. 1. 1.]]\n",
      "\n",
      " [[1. 1. 1.]\n",
      "  [1. 1. 1.]]\n",
      "\n",
      " [[1. 1. 1.]\n",
      "  [1. 1. 1.]]]\n"
     ]
    }
   ],
   "source": [
    "# your code here\n",
    "print(b)"
   ]
  },
  {
   "cell_type": "markdown",
   "metadata": {},
   "source": [
    "#### 7. Do *a* and *b* have the same size? How do you prove that in Python code?"
   ]
  },
  {
   "cell_type": "code",
   "execution_count": 9,
   "metadata": {},
   "outputs": [
    {
     "data": {
      "text/plain": [
       "True"
      ]
     },
     "execution_count": 9,
     "metadata": {},
     "output_type": "execute_result"
    }
   ],
   "source": [
    "# your code here\n",
    "a.size == b.size"
   ]
  },
  {
   "cell_type": "markdown",
   "metadata": {},
   "source": [
    "#### 8. Are you able to add *a* and *b*? Why or why not?\n"
   ]
  },
  {
   "cell_type": "code",
   "execution_count": 10,
   "metadata": {},
   "outputs": [
    {
     "name": "stdout",
     "output_type": "stream",
     "text": [
      "We can't add a and b because they are of different shapes\n"
     ]
    }
   ],
   "source": [
    "# your answer here\n",
    "print(\"We can't add a and b because they are of different shapes\")"
   ]
  },
  {
   "cell_type": "markdown",
   "metadata": {},
   "source": [
    "#### 9. Transpose *b* so that it has the same structure of *a* (i.e. become a 2x3x5 array). Assign the transposed array to variable *c*."
   ]
  },
  {
   "cell_type": "code",
   "execution_count": 11,
   "metadata": {},
   "outputs": [
    {
     "data": {
      "text/plain": [
       "(2, 3, 5)"
      ]
     },
     "execution_count": 11,
     "metadata": {},
     "output_type": "execute_result"
    }
   ],
   "source": [
    "# your code here\n",
    "\n",
    "# I'm not sure what it means to transpose a 3D matrix\n",
    "c = np.transpose(b, (1, 2, 0))\n",
    "c.shape"
   ]
  },
  {
   "cell_type": "markdown",
   "metadata": {},
   "source": [
    "#### 10. Try to add *a* and *c*. Now it should work. Assign the sum to variable *d*. But why does it work now?"
   ]
  },
  {
   "cell_type": "code",
   "execution_count": 12,
   "metadata": {},
   "outputs": [],
   "source": [
    "# your code/answer here\n",
    "d = a + c"
   ]
  },
  {
   "cell_type": "markdown",
   "metadata": {},
   "source": [
    "#### 11. Print *a* and *d*. Notice the difference and relation of the two array in terms of the values? Explain."
   ]
  },
  {
   "cell_type": "code",
   "execution_count": 13,
   "metadata": {},
   "outputs": [
    {
     "name": "stdout",
     "output_type": "stream",
     "text": [
      "[[[0.13240703 0.17705108 0.51908147 0.78469061 0.29213907]\n",
      "  [0.93244135 0.66994259 0.80021015 0.24034491 0.06361609]\n",
      "  [0.68946875 0.94603788 0.78588424 0.04043682 0.56805483]]\n",
      "\n",
      " [[0.88444605 0.50935901 0.12524132 0.67231257 0.47068053]\n",
      "  [0.82308299 0.02062442 0.31954391 0.19244249 0.21543089]\n",
      "  [0.41298382 0.63714464 0.92110599 0.54341014 0.57456228]]] \n",
      "\n",
      "\n",
      "[[[1.13240703 1.17705108 1.51908147 1.78469061 1.29213907]\n",
      "  [1.93244135 1.66994259 1.80021015 1.24034491 1.06361609]\n",
      "  [1.68946875 1.94603788 1.78588424 1.04043682 1.56805483]]\n",
      "\n",
      " [[1.88444605 1.50935901 1.12524132 1.67231257 1.47068053]\n",
      "  [1.82308299 1.02062442 1.31954391 1.19244249 1.21543089]\n",
      "  [1.41298382 1.63714464 1.92110599 1.54341014 1.57456228]]] \n",
      "\n",
      "\n",
      "d = 1 + a for each element of d and a. This happens because we are\n"
     ]
    }
   ],
   "source": [
    "# your code/answer here\n",
    "print(a, '\\n\\n')\n",
    "print(d, '\\n\\n')\n",
    "print('d = 1 + a for each element of d and a. This happens because we are')"
   ]
  },
  {
   "cell_type": "markdown",
   "metadata": {},
   "source": [
    "#### 12. Multiply *a* and *c*. Assign the result to *e*."
   ]
  },
  {
   "cell_type": "code",
   "execution_count": 14,
   "metadata": {},
   "outputs": [
    {
     "name": "stdout",
     "output_type": "stream",
     "text": [
      "[[[1. 1. 1. 1. 1.]\n",
      "  [1. 1. 1. 1. 1.]\n",
      "  [1. 1. 1. 1. 1.]]\n",
      "\n",
      " [[1. 1. 1. 1. 1.]\n",
      "  [1. 1. 1. 1. 1.]\n",
      "  [1. 1. 1. 1. 1.]]]\n"
     ]
    }
   ],
   "source": [
    "# your code here\n",
    "e = a * c\n",
    "print(c)"
   ]
  },
  {
   "cell_type": "markdown",
   "metadata": {},
   "source": [
    "#### 13. Does *e* equal to *a*? Why or why not?\n"
   ]
  },
  {
   "cell_type": "code",
   "execution_count": 15,
   "metadata": {},
   "outputs": [
    {
     "name": "stdout",
     "output_type": "stream",
     "text": [
      "[[[ True  True  True  True  True]\n",
      "  [ True  True  True  True  True]\n",
      "  [ True  True  True  True  True]]\n",
      "\n",
      " [[ True  True  True  True  True]\n",
      "  [ True  True  True  True  True]\n",
      "  [ True  True  True  True  True]]] \n",
      "\n",
      "\n",
      "e is equal to a because the multiplication of a and c is done element by element and every element of c is equal to 1\n"
     ]
    }
   ],
   "source": [
    "# your code/answer here\n",
    "print(e == a, '\\n\\n')\n",
    "print('e is equal to a because the multiplication of a and c is done element by element and every element of c is equal to 1')"
   ]
  },
  {
   "cell_type": "markdown",
   "metadata": {},
   "source": [
    "#### 14. Identify the max, min, and mean values in *d*. Assign those values to variables *d_max*, *d_min* and *d_mean*."
   ]
  },
  {
   "cell_type": "code",
   "execution_count": 16,
   "metadata": {},
   "outputs": [],
   "source": [
    "# your code here\n",
    "d_max = d.max()\n",
    "d_min = d.min()\n",
    "d_mean = d.mean()"
   ]
  },
  {
   "cell_type": "markdown",
   "metadata": {},
   "source": [
    "#### 15. Now we want to label the values in *d*. First create an empty array *f* with the same shape (i.e. 2x3x5) as *d* using `np.empty`.\n"
   ]
  },
  {
   "cell_type": "code",
   "execution_count": 17,
   "metadata": {},
   "outputs": [
    {
     "name": "stdout",
     "output_type": "stream",
     "text": [
      "[[[1. 1. 1. 1. 1.]\n",
      "  [1. 1. 1. 1. 1.]\n",
      "  [1. 1. 1. 1. 1.]]\n",
      "\n",
      " [[1. 1. 1. 1. 1.]\n",
      "  [1. 1. 1. 1. 1.]\n",
      "  [1. 1. 1. 1. 1.]]]\n"
     ]
    }
   ],
   "source": [
    "# your code here\n",
    "f = np.empty((2,3,5))\n",
    "print(f)"
   ]
  },
  {
   "cell_type": "markdown",
   "metadata": {},
   "source": [
    "#### 16. Populate the values in *f*. \n",
    "\n",
    "For each value in *d*, if it's larger than *d_min* but smaller than *d_mean*, assign 25 to the corresponding value in *f*. If a value in *d* is larger than *d_mean* but smaller than *d_max*, assign 75 to the corresponding value in *f*. If a value equals to *d_mean*, assign 50 to the corresponding value in *f*. Assign 0 to the corresponding value(s) in *f* for *d_min* in *d*. Assign 100 to the corresponding value(s) in *f* for *d_max* in *d*. In the end, f should have only the following values: 0, 25, 50, 75, and 100.\n",
    "\n",
    "**Note**: you don't have to use Numpy in this question."
   ]
  },
  {
   "cell_type": "code",
   "execution_count": 18,
   "metadata": {},
   "outputs": [],
   "source": [
    "# your code here\n",
    "\n",
    "(x, y, z) = d.shape\n",
    "for i in range(x):\n",
    "    for j in range(y):\n",
    "        for k in range(z):\n",
    "            if d[i][j][k] == d_min:\n",
    "                f[i][j][k] = 0\n",
    "            elif d_min < d[i][j][k] < d_mean:\n",
    "                f[i][j][k] = 25\n",
    "            elif d[i][j][k] == d_mean:\n",
    "                f[i][j][k] = 50\n",
    "            elif d_mean < d[i][j][k] < d_max:\n",
    "                f[i][j][k] = 75\n",
    "            else:\n",
    "                f[i][j][k] = 100"
   ]
  },
  {
   "cell_type": "code",
   "execution_count": 23,
   "metadata": {},
   "outputs": [
    {
     "name": "stdout",
     "output_type": "stream",
     "text": [
      "[[[ 25.  25.  75.  75.  25.]\n",
      "  [ 75.  75.  75.  25.  25.]\n",
      "  [ 75. 100.  75.  25.  75.]]\n",
      "\n",
      " [[ 75.  75.  25.  75.  25.]\n",
      "  [ 75.   0.  25.  25.  25.]\n",
      "  [ 25.  75.  75.  75.  75.]]]\n"
     ]
    }
   ],
   "source": [
    "# Alternative (cleaner)\n",
    "\n",
    "f[d == d_min] = 0\n",
    "f[(d_min < d) & (d < d_mean)] = 25\n",
    "f[d == d_mean] = 50\n",
    "f[(d_mean < d) & (d < d_max)] = 75\n",
    "f[d == d_max] = 100\n",
    "\n",
    "print(f)"
   ]
  },
  {
   "cell_type": "markdown",
   "metadata": {},
   "source": [
    "#### 17. Print *d* and *f*. Do you have your expected *f*?\n",
    "For instance, if your *d* is:\n",
    "```python\n",
    "[[[1.85836099, 1.67064465, 1.62576044, 1.40243961, 1.88454931],\n",
    "[1.75354326, 1.69403643, 1.36729252, 1.61415071, 1.12104981],\n",
    "[1.72201435, 1.1862918 , 1.87078449, 1.7726778 , 1.88180042]],\n",
    "[[1.44747908, 1.31673383, 1.02000951, 1.52218947, 1.97066381],\n",
    "[1.79129243, 1.74983003, 1.96028037, 1.85166831, 1.65450881],\n",
    "[1.18068344, 1.9587381 , 1.00656599, 1.93402165, 1.73514584]]]\n",
    "```\n",
    "Your *f* should be:\n",
    "```python\n",
    "[[[ 75.,  75.,  75.,  25.,  75.],\n",
    "[ 75.,  75.,  25.,  25.,  25.],\n",
    "[ 75.,  25.,  75.,  75.,  75.]],\n",
    "[[ 25.,  25.,  25.,  25., 100.],\n",
    "[ 75.,  75.,  75.,  75.,  75.],\n",
    "[ 25.,  75.,   0.,  75.,  75.]]]\n",
    "```"
   ]
  },
  {
   "cell_type": "code",
   "execution_count": 19,
   "metadata": {},
   "outputs": [
    {
     "name": "stdout",
     "output_type": "stream",
     "text": [
      "[[[1.49107201 1.07250549 1.91267818 1.17785613 1.18414364]\n",
      "  [1.51036318 1.06815878 1.5101785  1.56953271 1.55917503]\n",
      "  [1.61604262 1.08098674 1.54311663 1.70178759 1.42577228]]\n",
      "\n",
      " [[1.06976622 1.72487063 1.33963591 1.62205286 1.37894373]\n",
      "  [1.73898853 1.58780373 1.15199433 1.54394896 1.78708804]\n",
      "  [1.1429688  1.07114021 1.93227615 1.45553578 1.15435693]]] \n",
      "\n",
      "\n",
      "[[[ 75.  25.  75.  25.  25.]\n",
      "  [ 75.   0.  75.  75.  75.]\n",
      "  [ 75.  25.  75.  75.  25.]]\n",
      "\n",
      " [[ 25.  75.  25.  75.  25.]\n",
      "  [ 75.  75.  25.  75.  75.]\n",
      "  [ 25.  25. 100.  75.  25.]]]\n"
     ]
    }
   ],
   "source": [
    "print(d, '\\n\\n')\n",
    "print(f)"
   ]
  },
  {
   "cell_type": "markdown",
   "metadata": {},
   "source": [
    "#### 18. Bonus question: instead of using numbers (i.e. 0, 25, 50, 75, and 100), use string values  (\"A\", \"B\", \"C\", \"D\", and \"E\") to label the array elements. For the example above, the expected result is:\n",
    "\n",
    "```python\n",
    "[[[ 'D',  'D',  'D',  'B',  'D'],\n",
    "[ 'D',  'D',  'B',  'B',  'B'],\n",
    "[ 'D',  'B',  'D',  'D',  'D']],\n",
    "[[ 'B',  'B',  'B',  'B',  'E'],\n",
    "[ 'D',  'D',  'D',  'D',  'D'],\n",
    "[ 'B',  'D',   'A',  'D', 'D']]]\n",
    "```\n",
    "**Note**: you don't have to use Numpy in this question."
   ]
  },
  {
   "cell_type": "code",
   "execution_count": 21,
   "metadata": {},
   "outputs": [
    {
     "name": "stdout",
     "output_type": "stream",
     "text": [
      "[[['D' 'B' 'D' 'B' 'B']\n",
      "  ['D' 'A' 'D' 'D' 'D']\n",
      "  ['D' 'B' 'D' 'D' 'B']]\n",
      "\n",
      " [['B' 'D' 'B' 'D' 'B']\n",
      "  ['D' 'D' 'B' 'D' 'D']\n",
      "  ['B' 'B' 'E' 'D' 'B']]]\n"
     ]
    }
   ],
   "source": [
    "# your code here\n",
    "\n",
    "f = np.array(f, dtype = 'str')\n",
    "(x, y, z) = d.shape\n",
    "for i in range(x):\n",
    "    for j in range(y):\n",
    "        for k in range(z):\n",
    "            if d[i][j][k] == d_min:\n",
    "                f[i][j][k] = 'A'\n",
    "            elif d_min < d[i][j][k] < d_mean:\n",
    "                f[i][j][k] = 'B'\n",
    "            elif d[i][j][k] == d_mean:\n",
    "                f[i][j][k] = 'C'\n",
    "            elif d_mean < d[i][j][k] < d_max:\n",
    "                f[i][j][k] = 'D'\n",
    "            else:\n",
    "                f[i][j][k] = 'E'\n",
    "\n",
    "print(f)"
   ]
  }
 ],
 "metadata": {
  "kernelspec": {
   "display_name": "Python 3",
   "language": "python",
   "name": "python3"
  },
  "language_info": {
   "codemirror_mode": {
    "name": "ipython",
    "version": 3
   },
   "file_extension": ".py",
   "mimetype": "text/x-python",
   "name": "python",
   "nbconvert_exporter": "python",
   "pygments_lexer": "ipython3",
   "version": "3.7.4"
  }
 },
 "nbformat": 4,
 "nbformat_minor": 2
}
