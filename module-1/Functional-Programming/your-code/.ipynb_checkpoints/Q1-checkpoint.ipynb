{
 "cells": [
  {
   "cell_type": "markdown",
   "metadata": {},
   "source": [
    "In the cell below, create a Python function that wraps your previous solution for the Bag of Words lab.\n",
    "\n",
    "Requirements:\n",
    "\n",
    "1. Your function should accept the following parameters:\n",
    "    * `docs` [REQUIRED] - array of document paths.\n",
    "    * `stop_words` [OPTIONAL] - array of stop words. The default value is an empty array.\n",
    "\n",
    "1. Your function should return a Python object that contains the following:\n",
    "    * `bag_of_words` - array of strings of normalized unique words in the corpus.\n",
    "    * `term_freq` - array of the term-frequency vectors."
   ]
  },
  {
   "cell_type": "code",
   "execution_count": 19,
   "metadata": {},
   "outputs": [],
   "source": [
    "def get_bow_from_docs(docs, stop_words=[]):\n",
    "    \n",
    "    # In the function, first define the variables you will use such as `corpus`, `bag_of_words`, and `term_freq`. \n",
    "    corpus = []\n",
    "    bag_of_words = set()\n",
    "    term_freq = []\n",
    "    \n",
    "    corpus = [doc.strip('.').lower() for doc in docs]\n",
    "    \n",
    "    \n",
    "    # Getting bag_of_words -- Change this code to list compreension\n",
    "    for doc in corpus:\n",
    "        for word in doc.split():\n",
    "            if word not in stop_words:\n",
    "                bag_of_words.add(word)\n",
    "      \n",
    "    \n",
    "    # Getting term_freq\n",
    "    for d in corpus:\n",
    "        lst = []\n",
    "        for word in bag_of_words:\n",
    "            if word in d:\n",
    "                lst.append(1)\n",
    "            else:\n",
    "                lst.append(0)\n",
    "        term_freq.append(lst)\n",
    "    \n",
    "    \n",
    "    # Now return your output as an object\n",
    "    return {\n",
    "        \"bag_of_words\": bag_of_words,\n",
    "        \"term_freq\": term_freq\n",
    "    }"
   ]
  },
  {
   "cell_type": "markdown",
   "metadata": {},
   "source": [
    "Test your function without stop words. You should see the output like below:\n",
    "\n",
    "```{'bag_of_words': ['ironhack', 'is', 'cool', 'i', 'love', 'am', 'a', 'student', 'at'], 'term_freq': [[1, 1, 1, 0, 0, 0, 0, 0, 0], [1, 0, 0, 1, 1, 0, 0, 0, 0], [1, 0, 0, 1, 0, 1, 1, 1, 1]]}```"
   ]
  },
  {
   "cell_type": "code",
   "execution_count": 20,
   "metadata": {},
   "outputs": [
    {
     "name": "stdout",
     "output_type": "stream",
     "text": [
      "{'bag_of_words': {'cool', 'i', 'at', 'ironhack', 'love', 'student', 'a', 'am', 'is'}, 'term_freq': [[1, 1, 0, 1, 0, 0, 1, 0, 1], [0, 1, 0, 1, 1, 0, 1, 0, 0], [0, 1, 1, 1, 0, 1, 1, 1, 0]]}\n"
     ]
    }
   ],
   "source": [
    "# Define doc paths array\n",
    "doc1 = 'Ironhack is cool.'\n",
    "doc2 = 'I love Ironhack.'\n",
    "doc3 = 'I am a student at Ironhack.'\n",
    "\n",
    "docs = [doc1, doc2, doc3]\n",
    "\n",
    "# Obtain BoW from your function\n",
    "bow = get_bow_from_docs(docs)\n",
    "\n",
    "# Print BoW\n",
    "print(bow)"
   ]
  },
  {
   "cell_type": "markdown",
   "metadata": {},
   "source": [
    "If your attempt above is successful, nice work done!\n",
    "\n",
    "Now test your function again with the stop words. In the previous lab we defined the stop words in a large array. In this lab, we'll import the stop words from Scikit-Learn."
   ]
  },
  {
   "cell_type": "code",
   "execution_count": 18,
   "metadata": {},
   "outputs": [
    {
     "name": "stdout",
     "output_type": "stream",
     "text": [
      "frozenset({'without', 'else', 'his', 'why', 'though', 'yourself', 'them', 'nothing', 'see', 'to', 'thin', 'several', 'almost', 'across', 'via', 'latter', 'were', 'three', 'throughout', 'can', 'before', 'done', 'seeming', 'due', 'once', 'thereby', 'thru', 'please', 'more', 'keep', 'within', 'besides', 'less', 'now', 'hence', 'every', 'these', 'it', 'interest', 'sometime', 'there', 'meanwhile', 'many', 'go', 'hasnt', 'at', 'any', 'must', 'others', 'de', 'whereafter', 'often', 'whereupon', 'seems', 'forty', 'side', 'mostly', 'first', 'was', 'too', 'give', 'upon', 'another', 'nor', 'whereby', 'couldnt', 'namely', 'twelve', 'herein', 'least', 'so', 'alone', 'him', 'whenever', 'toward', 'only', 'eg', 'during', 'full', 'becoming', 'behind', 'anything', 'we', 'thence', 'where', 'get', 'am', 'might', 'this', 'may', 'somewhere', 'yourselves', 'back', 'hundred', 'have', 'third', 'ours', 'she', 'whose', 'afterwards', 'should', 'empty', 'became', 'or', 'find', 'her', 'name', 'since', 'fifteen', 'not', 'been', 'into', 'whence', 'except', 'whoever', 'among', 'fill', 'yours', 'all', 'whom', 'again', 'do', 'here', 'well', 'off', 'both', 'co', 'already', 'nobody', 'describe', 'anywhere', 'found', 'ie', 'after', 'he', 'whither', 'become', 'that', 'becomes', 'are', 'serious', 'hereupon', 'over', 'fire', 'everywhere', 'under', 'if', 'few', 'me', 'one', 're', 'towards', 'but', 'whether', 'each', 'i', 'while', 'cry', 'made', 'never', 'most', 'myself', 'those', 'cannot', 'front', 'etc', 'because', 'us', 'the', 'twenty', 'eight', 'thereafter', 'hers', 'anyhow', 'they', 'thick', 'wherever', 'top', 'sixty', 'no', 'out', 'something', 'you', 'with', 'hereafter', 'system', 'con', 'hereby', 'who', 'will', 'some', 'until', 'would', 'un', 'sincere', 'very', 'such', 'four', 'move', 'being', 'cant', 'noone', 'per', 'wherein', 'six', 'eleven', 'when', 'former', 'amoungst', 'together', 'formerly', 'ourselves', 'everything', 'what', 'own', 'anyway', 'ten', 'nine', 'perhaps', 'somehow', 'always', 'yet', 'next', 'moreover', 'sometimes', 'much', 'herself', 'has', 'neither', 'could', 'about', 'show', 'their', 'itself', 'against', 'anyone', 'on', 'call', 'an', 'none', 'still', 'although', 'your', 'otherwise', 'detail', 'our', 'last', 'seemed', 'inc', 'himself', 'further', 'which', 'either', 'onto', 'other', 'everyone', 'whatever', 'from', 'above', 'and', 'bill', 'nowhere', 'two', 'ever', 'how', 'themselves', 'amongst', 'indeed', 'someone', 'put', 'be', 'through', 'than', 'amount', 'seem', 'down', 'beforehand', 'whole', 'is', 'beside', 'therein', 'below', 'however', 'latterly', 'around', 'thus', 'whereas', 'fifty', 'therefore', 'then', 'for', 'its', 'had', 'as', 'also', 'enough', 'ltd', 'of', 'a', 'part', 'mine', 'by', 'in', 'elsewhere', 'take', 'thereupon', 'even', 'up', 'rather', 'bottom', 'mill', 'five', 'along', 'same', 'beyond', 'my', 'nevertheless', 'between'})\n"
     ]
    }
   ],
   "source": [
    "from sklearn.feature_extraction import stop_words\n",
    "print(stop_words.ENGLISH_STOP_WORDS)"
   ]
  },
  {
   "cell_type": "markdown",
   "metadata": {},
   "source": [
    "You should have seen a large list of words that looks like:\n",
    "\n",
    "```frozenset({'across', 'mine', 'cannot', ...})```\n",
    "\n",
    "`frozenset` is a type of Python object that is immutable. In this lab you can use it just like an array without conversion."
   ]
  },
  {
   "cell_type": "markdown",
   "metadata": {},
   "source": [
    "Next, test your function with supplying `stop_words.ENGLISH_STOP_WORDS` as the second parameter."
   ]
  },
  {
   "cell_type": "code",
   "execution_count": 15,
   "metadata": {},
   "outputs": [
    {
     "name": "stdout",
     "output_type": "stream",
     "text": [
      "{'bag_of_words': ['bag_of_words', 'term_freq'], 'term_freq': [[1, 0], [0, 1]]}\n"
     ]
    }
   ],
   "source": [
    "# Get back to this\n",
    "bow = get_bow_from_docs(bow, stop_words.ENGLISH_STOP_WORDS)\n",
    "\n",
    "print(bow)"
   ]
  },
  {
   "cell_type": "markdown",
   "metadata": {},
   "source": [
    "You should have seen:\n",
    "\n",
    "```{'bag_of_words': ['ironhack', 'cool', 'love', 'student'], 'term_freq': [[1, 1, 0, 0], [1, 0, 1, 0], [1, 0, 0, 1]]}```"
   ]
  }
 ],
 "metadata": {
  "kernelspec": {
   "display_name": "Python 3",
   "language": "python",
   "name": "python3"
  },
  "language_info": {
   "codemirror_mode": {
    "name": "ipython",
    "version": 3
   },
   "file_extension": ".py",
   "mimetype": "text/x-python",
   "name": "python",
   "nbconvert_exporter": "python",
   "pygments_lexer": "ipython3",
   "version": "3.7.4"
  }
 },
 "nbformat": 4,
 "nbformat_minor": 2
}
