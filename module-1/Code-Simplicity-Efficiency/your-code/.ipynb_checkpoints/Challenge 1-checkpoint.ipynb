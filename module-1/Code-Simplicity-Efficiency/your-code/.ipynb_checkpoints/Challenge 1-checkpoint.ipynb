{
 "cells": [
  {
   "cell_type": "code",
   "execution_count": 6,
   "metadata": {},
   "outputs": [
    {
     "name": "stdout",
     "output_type": "stream",
     "text": [
      "Welcome to this calculator!\n",
      "It can add and subtract whole numbers from zero to five\n",
      "Please choose your first number (zero to five): five\n",
      "What do you want to do? plus or minus: plus\n",
      "Please choose your second number (zero to five): five\n",
      "five plus five equals ten\n",
      "Thanks for using this calculator, goodbye :)\n"
     ]
    }
   ],
   "source": [
    "word_to_number = {'zero': 0, 'one': 1, 'two': 2, 'three': 3, 'four': 4, 'five': 5}\n",
    "list_of_numbers = ['zero', 'one', 'two', 'three', 'four', 'five', 'six', 'seven', 'eight', 'nine', 'ten']\n",
    "\n",
    "\"\"\"\n",
    "This is a dumb calculator that can add and subtract whole numbers from zero to five.\n",
    "When you run the code, you are prompted to enter two numbers (in the form of English\n",
    "word instead of number) and the operator sign (also in the form of English word).\n",
    "The code will perform the calculation and give the result if your input is what it\n",
    "expects.\n",
    "\"\"\"\n",
    "    \n",
    "print('Welcome to this calculator!')\n",
    "print('It can add and subtract whole numbers from zero to five')\n",
    "a = input('Please choose your first number (zero to five): ')\n",
    "b = input('What do you want to do? plus or minus: ')\n",
    "c = input('Please choose your second number (zero to five): ')\n",
    "    \n",
    "try:\n",
    "    if b == 'plus':\n",
    "        result = word_to_number[a] + word_to_number[c]\n",
    "        print(a + ' ' + b + ' ' + c + ' ' + 'equals', list_of_numbers[result]) \n",
    "    elif b == 'minus':\n",
    "        result = word_to_number[a] - word_to_number[c]\n",
    "        print(a + ' ' + b + ' ' + c + ' ' + 'equals', list_of_numbers[result]) \n",
    "    else:\n",
    "        print('I am not able to answer this question. Check your input.')\n",
    "\n",
    "except KeyError:\n",
    "    print('I am not able to answer this question. Check your input.')\n",
    "    \n",
    "print('Thanks for using this calculator, goodbye :)')"
   ]
  }
 ],
 "metadata": {
  "kernelspec": {
   "display_name": "Python 3",
   "language": "python",
   "name": "python3"
  },
  "language_info": {
   "codemirror_mode": {
    "name": "ipython",
    "version": 3
   },
   "file_extension": ".py",
   "mimetype": "text/x-python",
   "name": "python",
   "nbconvert_exporter": "python",
   "pygments_lexer": "ipython3",
   "version": "3.7.4"
  }
 },
 "nbformat": 4,
 "nbformat_minor": 2
}
