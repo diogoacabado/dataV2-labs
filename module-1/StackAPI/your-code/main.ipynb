{
 "cells": [
  {
   "cell_type": "markdown",
   "metadata": {},
   "source": [
    "# StackAPI\n",
    "\n",
    "#### Import the necessary libraries here:"
   ]
  },
  {
   "cell_type": "code",
   "execution_count": 2,
   "metadata": {},
   "outputs": [
    {
     "ename": "StackAPIError",
     "evalue": "('https://api.stackexchange.com/2.2/sites/?pagesize=1000&page=1&filter=%21%2AL1%2AAY-85YllAr2%29', 502, 'throttle_violation', 'too many requests from this IP, more requests available in 7119 seconds')",
     "output_type": "error",
     "traceback": [
      "\u001b[0;31m---------------------------------------------------------------------------\u001b[0m",
      "\u001b[0;31mStackAPIError\u001b[0m                             Traceback (most recent call last)",
      "\u001b[0;32m<ipython-input-2-178442dbff7c>\u001b[0m in \u001b[0;36m<module>\u001b[0;34m\u001b[0m\n\u001b[1;32m      1\u001b[0m \u001b[0;31m# your code here\u001b[0m\u001b[0;34m\u001b[0m\u001b[0;34m\u001b[0m\u001b[0;34m\u001b[0m\u001b[0m\n\u001b[1;32m      2\u001b[0m \u001b[0;32mfrom\u001b[0m \u001b[0mstackapi\u001b[0m \u001b[0;32mimport\u001b[0m \u001b[0mStackAPI\u001b[0m\u001b[0;34m\u001b[0m\u001b[0;34m\u001b[0m\u001b[0m\n\u001b[0;32m----> 3\u001b[0;31m \u001b[0mSITE\u001b[0m \u001b[0;34m=\u001b[0m \u001b[0mStackAPI\u001b[0m\u001b[0;34m(\u001b[0m\u001b[0;34m'stackoverflow'\u001b[0m\u001b[0;34m)\u001b[0m\u001b[0;34m\u001b[0m\u001b[0;34m\u001b[0m\u001b[0m\n\u001b[0m",
      "\u001b[0;32m~/opt/anaconda3/lib/python3.7/site-packages/stackapi/stackapi.py\u001b[0m in \u001b[0;36m__init__\u001b[0;34m(self, name, version, **kwargs)\u001b[0m\n\u001b[1;32m     69\u001b[0m \u001b[0;34m\u001b[0m\u001b[0m\n\u001b[1;32m     70\u001b[0m         \u001b[0mself\u001b[0m\u001b[0;34m.\u001b[0m\u001b[0m_base_url\u001b[0m \u001b[0;34m=\u001b[0m \u001b[0;34m'https://api.stackexchange.com/{}/'\u001b[0m\u001b[0;34m.\u001b[0m\u001b[0mformat\u001b[0m\u001b[0;34m(\u001b[0m\u001b[0mversion\u001b[0m\u001b[0;34m)\u001b[0m\u001b[0;34m\u001b[0m\u001b[0;34m\u001b[0m\u001b[0m\n\u001b[0;32m---> 71\u001b[0;31m         \u001b[0msites\u001b[0m \u001b[0;34m=\u001b[0m \u001b[0mself\u001b[0m\u001b[0;34m.\u001b[0m\u001b[0mfetch\u001b[0m\u001b[0;34m(\u001b[0m\u001b[0;34m'sites'\u001b[0m\u001b[0;34m,\u001b[0m \u001b[0mfilter\u001b[0m\u001b[0;34m=\u001b[0m\u001b[0;34m'!*L1*AY-85YllAr2)'\u001b[0m\u001b[0;34m,\u001b[0m \u001b[0mpagesize\u001b[0m\u001b[0;34m=\u001b[0m\u001b[0;36m1000\u001b[0m\u001b[0;34m)\u001b[0m\u001b[0;34m\u001b[0m\u001b[0;34m\u001b[0m\u001b[0m\n\u001b[0m\u001b[1;32m     72\u001b[0m         \u001b[0;32mfor\u001b[0m \u001b[0ms\u001b[0m \u001b[0;32min\u001b[0m \u001b[0msites\u001b[0m\u001b[0;34m[\u001b[0m\u001b[0;34m'items'\u001b[0m\u001b[0;34m]\u001b[0m\u001b[0;34m:\u001b[0m\u001b[0;34m\u001b[0m\u001b[0;34m\u001b[0m\u001b[0m\n\u001b[1;32m     73\u001b[0m             \u001b[0;32mif\u001b[0m \u001b[0mname\u001b[0m \u001b[0;34m==\u001b[0m \u001b[0ms\u001b[0m\u001b[0;34m[\u001b[0m\u001b[0;34m'api_site_parameter'\u001b[0m\u001b[0;34m]\u001b[0m\u001b[0;34m:\u001b[0m\u001b[0;34m\u001b[0m\u001b[0;34m\u001b[0m\u001b[0m\n",
      "\u001b[0;32m~/opt/anaconda3/lib/python3.7/site-packages/stackapi/stackapi.py\u001b[0m in \u001b[0;36mfetch\u001b[0;34m(self, endpoint, page, key, filter, **kwargs)\u001b[0m\n\u001b[1;32m    196\u001b[0m                 \u001b[0mcode\u001b[0m \u001b[0;34m=\u001b[0m \u001b[0mresponse\u001b[0m\u001b[0;34m[\u001b[0m\u001b[0;34m\"error_name\"\u001b[0m\u001b[0;34m]\u001b[0m\u001b[0;34m\u001b[0m\u001b[0;34m\u001b[0m\u001b[0m\n\u001b[1;32m    197\u001b[0m                 \u001b[0mmessage\u001b[0m \u001b[0;34m=\u001b[0m \u001b[0mresponse\u001b[0m\u001b[0;34m[\u001b[0m\u001b[0;34m\"error_message\"\u001b[0m\u001b[0;34m]\u001b[0m\u001b[0;34m\u001b[0m\u001b[0;34m\u001b[0m\u001b[0m\n\u001b[0;32m--> 198\u001b[0;31m                 \u001b[0;32mraise\u001b[0m \u001b[0mStackAPIError\u001b[0m\u001b[0;34m(\u001b[0m\u001b[0mself\u001b[0m\u001b[0;34m.\u001b[0m\u001b[0m_previous_call\u001b[0m\u001b[0;34m,\u001b[0m \u001b[0merror\u001b[0m\u001b[0;34m,\u001b[0m \u001b[0mcode\u001b[0m\u001b[0;34m,\u001b[0m \u001b[0mmessage\u001b[0m\u001b[0;34m)\u001b[0m\u001b[0;34m\u001b[0m\u001b[0;34m\u001b[0m\u001b[0m\n\u001b[0m\u001b[1;32m    199\u001b[0m             \u001b[0;32mexcept\u001b[0m \u001b[0mKeyError\u001b[0m\u001b[0;34m:\u001b[0m\u001b[0;34m\u001b[0m\u001b[0;34m\u001b[0m\u001b[0m\n\u001b[1;32m    200\u001b[0m                 \u001b[0;32mpass\u001b[0m  \u001b[0;31m# This means there is no error\u001b[0m\u001b[0;34m\u001b[0m\u001b[0;34m\u001b[0m\u001b[0m\n",
      "\u001b[0;31mStackAPIError\u001b[0m: ('https://api.stackexchange.com/2.2/sites/?pagesize=1000&page=1&filter=%21%2AL1%2AAY-85YllAr2%29', 502, 'throttle_violation', 'too many requests from this IP, more requests available in 7119 seconds')"
     ]
    }
   ],
   "source": [
    "# your code here\n",
    "from stackapi import StackAPI\n",
    "SITE = StackAPI('stackoverflow')"
   ]
  },
  {
   "cell_type": "markdown",
   "metadata": {},
   "source": [
    "#### Question 1: Find the questions and answers of last month."
   ]
  },
  {
   "cell_type": "code",
   "execution_count": 2,
   "metadata": {},
   "outputs": [],
   "source": [
    "# your code here\n",
    "questions = SITE.fetch('questions', fromdate=1580515200, todate=1583020799)"
   ]
  },
  {
   "cell_type": "code",
   "execution_count": 35,
   "metadata": {},
   "outputs": [
    {
     "data": {
      "text/plain": [
       "{'tags': ['python', 'tensorflow', 'keras', 'pre-trained-model'],\n",
       " 'owner': {'reputation': 2139,\n",
       "  'user_id': 3337089,\n",
       "  'user_type': 'registered',\n",
       "  'accept_rate': 86,\n",
       "  'profile_image': 'https://www.gravatar.com/avatar/b096725512960a65abe37b76c383de67?s=128&d=identicon&r=PG&f=1',\n",
       "  'display_name': 'Nagabhushan S N',\n",
       "  'link': 'https://stackoverflow.com/users/3337089/nagabhushan-s-n'},\n",
       " 'is_answered': True,\n",
       " 'view_count': 26,\n",
       " 'answer_count': 1,\n",
       " 'score': 5,\n",
       " 'last_activity_date': 1583723188,\n",
       " 'creation_date': 1583716704,\n",
       " 'question_id': 60593624,\n",
       " 'link': 'https://stackoverflow.com/questions/60593624/modify-trained-model-architecture-and-continue-training-keras',\n",
       " 'title': 'Modify trained model architecture and continue training Keras'}"
      ]
     },
     "execution_count": 35,
     "metadata": {},
     "output_type": "execute_result"
    }
   ],
   "source": [
    "questions['items'][0]"
   ]
  },
  {
   "cell_type": "code",
   "execution_count": 36,
   "metadata": {},
   "outputs": [],
   "source": [
    "quest = pd.DataFrame(questions['items'])"
   ]
  },
  {
   "cell_type": "code",
   "execution_count": 37,
   "metadata": {},
   "outputs": [
    {
     "data": {
      "text/html": [
       "<div>\n",
       "<style scoped>\n",
       "    .dataframe tbody tr th:only-of-type {\n",
       "        vertical-align: middle;\n",
       "    }\n",
       "\n",
       "    .dataframe tbody tr th {\n",
       "        vertical-align: top;\n",
       "    }\n",
       "\n",
       "    .dataframe thead th {\n",
       "        text-align: right;\n",
       "    }\n",
       "</style>\n",
       "<table border=\"1\" class=\"dataframe\">\n",
       "  <thead>\n",
       "    <tr style=\"text-align: right;\">\n",
       "      <th></th>\n",
       "      <th>tags</th>\n",
       "      <th>owner</th>\n",
       "      <th>is_answered</th>\n",
       "      <th>view_count</th>\n",
       "      <th>answer_count</th>\n",
       "      <th>score</th>\n",
       "      <th>last_activity_date</th>\n",
       "      <th>creation_date</th>\n",
       "      <th>question_id</th>\n",
       "      <th>link</th>\n",
       "      <th>title</th>\n",
       "      <th>accepted_answer_id</th>\n",
       "      <th>last_edit_date</th>\n",
       "      <th>closed_date</th>\n",
       "      <th>closed_reason</th>\n",
       "    </tr>\n",
       "  </thead>\n",
       "  <tbody>\n",
       "    <tr>\n",
       "      <td>0</td>\n",
       "      <td>[python, tensorflow, keras, pre-trained-model]</td>\n",
       "      <td>{'reputation': 2139, 'user_id': 3337089, 'user...</td>\n",
       "      <td>True</td>\n",
       "      <td>26</td>\n",
       "      <td>1</td>\n",
       "      <td>5</td>\n",
       "      <td>1583723188</td>\n",
       "      <td>1583716704</td>\n",
       "      <td>60593624</td>\n",
       "      <td>https://stackoverflow.com/questions/60593624/m...</td>\n",
       "      <td>Modify trained model architecture and continue...</td>\n",
       "      <td>NaN</td>\n",
       "      <td>NaN</td>\n",
       "      <td>NaN</td>\n",
       "      <td>NaN</td>\n",
       "    </tr>\n",
       "    <tr>\n",
       "      <td>1</td>\n",
       "      <td>[python, pandas]</td>\n",
       "      <td>{'reputation': 139, 'user_id': 10783924, 'user...</td>\n",
       "      <td>True</td>\n",
       "      <td>59</td>\n",
       "      <td>4</td>\n",
       "      <td>4</td>\n",
       "      <td>1583724631</td>\n",
       "      <td>1583723323</td>\n",
       "      <td>60594272</td>\n",
       "      <td>https://stackoverflow.com/questions/60594272/f...</td>\n",
       "      <td>Find row average of tuples in data frame / 2d ...</td>\n",
       "      <td>60594311.0</td>\n",
       "      <td>1.583724e+09</td>\n",
       "      <td>NaN</td>\n",
       "      <td>NaN</td>\n",
       "    </tr>\n",
       "    <tr>\n",
       "      <td>2</td>\n",
       "      <td>[python, list]</td>\n",
       "      <td>{'reputation': 41, 'user_id': 13032963, 'user_...</td>\n",
       "      <td>True</td>\n",
       "      <td>40</td>\n",
       "      <td>2</td>\n",
       "      <td>4</td>\n",
       "      <td>1583760265</td>\n",
       "      <td>1583759138</td>\n",
       "      <td>60601208</td>\n",
       "      <td>https://stackoverflow.com/questions/60601208/h...</td>\n",
       "      <td>How do I make independent lists within in a list?</td>\n",
       "      <td>NaN</td>\n",
       "      <td>1.583760e+09</td>\n",
       "      <td>NaN</td>\n",
       "      <td>NaN</td>\n",
       "    </tr>\n",
       "    <tr>\n",
       "      <td>3</td>\n",
       "      <td>[python, pandas, dataframe]</td>\n",
       "      <td>{'reputation': 43, 'user_id': 13032899, 'user_...</td>\n",
       "      <td>True</td>\n",
       "      <td>21</td>\n",
       "      <td>2</td>\n",
       "      <td>4</td>\n",
       "      <td>1583760641</td>\n",
       "      <td>1583759591</td>\n",
       "      <td>60601337</td>\n",
       "      <td>https://stackoverflow.com/questions/60601337/g...</td>\n",
       "      <td>groupby and withhold information of one column...</td>\n",
       "      <td>60601542.0</td>\n",
       "      <td>1.583760e+09</td>\n",
       "      <td>NaN</td>\n",
       "      <td>NaN</td>\n",
       "    </tr>\n",
       "    <tr>\n",
       "      <td>4</td>\n",
       "      <td>[python, regex, pandas, dataframe, nltk]</td>\n",
       "      <td>{'reputation': 612, 'user_id': 9161067, 'user_...</td>\n",
       "      <td>True</td>\n",
       "      <td>59</td>\n",
       "      <td>1</td>\n",
       "      <td>4</td>\n",
       "      <td>1583769158</td>\n",
       "      <td>1583764083</td>\n",
       "      <td>60602630</td>\n",
       "      <td>https://stackoverflow.com/questions/60602630/p...</td>\n",
       "      <td>Partial keyword match not working when I am tr...</td>\n",
       "      <td>60604053.0</td>\n",
       "      <td>1.583767e+09</td>\n",
       "      <td>NaN</td>\n",
       "      <td>NaN</td>\n",
       "    </tr>\n",
       "    <tr>\n",
       "      <td>...</td>\n",
       "      <td>...</td>\n",
       "      <td>...</td>\n",
       "      <td>...</td>\n",
       "      <td>...</td>\n",
       "      <td>...</td>\n",
       "      <td>...</td>\n",
       "      <td>...</td>\n",
       "      <td>...</td>\n",
       "      <td>...</td>\n",
       "      <td>...</td>\n",
       "      <td>...</td>\n",
       "      <td>...</td>\n",
       "      <td>...</td>\n",
       "      <td>...</td>\n",
       "      <td>...</td>\n",
       "    </tr>\n",
       "    <tr>\n",
       "      <td>495</td>\n",
       "      <td>[python, firebase-cloud-messaging, mule]</td>\n",
       "      <td>{'reputation': 11, 'user_id': 12852541, 'user_...</td>\n",
       "      <td>False</td>\n",
       "      <td>18</td>\n",
       "      <td>1</td>\n",
       "      <td>0</td>\n",
       "      <td>1583780242</td>\n",
       "      <td>1583758761</td>\n",
       "      <td>60601096</td>\n",
       "      <td>https://stackoverflow.com/questions/60601096/m...</td>\n",
       "      <td>Mule 3.8 error: ImportError: No module named auth</td>\n",
       "      <td>NaN</td>\n",
       "      <td>1.583760e+09</td>\n",
       "      <td>NaN</td>\n",
       "      <td>NaN</td>\n",
       "    </tr>\n",
       "    <tr>\n",
       "      <td>496</td>\n",
       "      <td>[python, android, flask, heroku, flask-restful]</td>\n",
       "      <td>{'reputation': 517, 'user_id': 726872, 'user_t...</td>\n",
       "      <td>False</td>\n",
       "      <td>26</td>\n",
       "      <td>0</td>\n",
       "      <td>0</td>\n",
       "      <td>1583771337</td>\n",
       "      <td>1583758716</td>\n",
       "      <td>60601079</td>\n",
       "      <td>https://stackoverflow.com/questions/60601079/f...</td>\n",
       "      <td>flask-restful HTTP 500 when uploading file fro...</td>\n",
       "      <td>NaN</td>\n",
       "      <td>1.583771e+09</td>\n",
       "      <td>NaN</td>\n",
       "      <td>NaN</td>\n",
       "    </tr>\n",
       "    <tr>\n",
       "      <td>497</td>\n",
       "      <td>[python, tensorflow, tensorflow2.0, image-reco...</td>\n",
       "      <td>{'reputation': 53, 'user_id': 6095520, 'user_t...</td>\n",
       "      <td>False</td>\n",
       "      <td>12</td>\n",
       "      <td>0</td>\n",
       "      <td>0</td>\n",
       "      <td>1583758534</td>\n",
       "      <td>1583758534</td>\n",
       "      <td>60601026</td>\n",
       "      <td>https://stackoverflow.com/questions/60601026/t...</td>\n",
       "      <td>Tensorflow For Poets - Upgrade to Tensorflow 2</td>\n",
       "      <td>NaN</td>\n",
       "      <td>NaN</td>\n",
       "      <td>NaN</td>\n",
       "      <td>NaN</td>\n",
       "    </tr>\n",
       "    <tr>\n",
       "      <td>498</td>\n",
       "      <td>[python, math]</td>\n",
       "      <td>{'reputation': 1, 'user_id': 12823073, 'user_t...</td>\n",
       "      <td>False</td>\n",
       "      <td>5</td>\n",
       "      <td>0</td>\n",
       "      <td>0</td>\n",
       "      <td>1583758638</td>\n",
       "      <td>1583758318</td>\n",
       "      <td>60600964</td>\n",
       "      <td>https://stackoverflow.com/questions/60600964/m...</td>\n",
       "      <td>Mathpix - Image Retrieve</td>\n",
       "      <td>NaN</td>\n",
       "      <td>1.583759e+09</td>\n",
       "      <td>NaN</td>\n",
       "      <td>NaN</td>\n",
       "    </tr>\n",
       "    <tr>\n",
       "      <td>499</td>\n",
       "      <td>[python, html, selenium]</td>\n",
       "      <td>{'reputation': 7, 'user_id': 12438012, 'user_t...</td>\n",
       "      <td>False</td>\n",
       "      <td>19</td>\n",
       "      <td>0</td>\n",
       "      <td>0</td>\n",
       "      <td>1583759560</td>\n",
       "      <td>1583758075</td>\n",
       "      <td>60600900</td>\n",
       "      <td>https://stackoverflow.com/questions/60600900/p...</td>\n",
       "      <td>Python3 Scraping Printer`s web page is not wor...</td>\n",
       "      <td>NaN</td>\n",
       "      <td>1.583760e+09</td>\n",
       "      <td>NaN</td>\n",
       "      <td>NaN</td>\n",
       "    </tr>\n",
       "  </tbody>\n",
       "</table>\n",
       "<p>500 rows × 15 columns</p>\n",
       "</div>"
      ],
      "text/plain": [
       "                                                  tags  \\\n",
       "0       [python, tensorflow, keras, pre-trained-model]   \n",
       "1                                     [python, pandas]   \n",
       "2                                       [python, list]   \n",
       "3                          [python, pandas, dataframe]   \n",
       "4             [python, regex, pandas, dataframe, nltk]   \n",
       "..                                                 ...   \n",
       "495           [python, firebase-cloud-messaging, mule]   \n",
       "496    [python, android, flask, heroku, flask-restful]   \n",
       "497  [python, tensorflow, tensorflow2.0, image-reco...   \n",
       "498                                     [python, math]   \n",
       "499                           [python, html, selenium]   \n",
       "\n",
       "                                                 owner  is_answered  \\\n",
       "0    {'reputation': 2139, 'user_id': 3337089, 'user...         True   \n",
       "1    {'reputation': 139, 'user_id': 10783924, 'user...         True   \n",
       "2    {'reputation': 41, 'user_id': 13032963, 'user_...         True   \n",
       "3    {'reputation': 43, 'user_id': 13032899, 'user_...         True   \n",
       "4    {'reputation': 612, 'user_id': 9161067, 'user_...         True   \n",
       "..                                                 ...          ...   \n",
       "495  {'reputation': 11, 'user_id': 12852541, 'user_...        False   \n",
       "496  {'reputation': 517, 'user_id': 726872, 'user_t...        False   \n",
       "497  {'reputation': 53, 'user_id': 6095520, 'user_t...        False   \n",
       "498  {'reputation': 1, 'user_id': 12823073, 'user_t...        False   \n",
       "499  {'reputation': 7, 'user_id': 12438012, 'user_t...        False   \n",
       "\n",
       "     view_count  answer_count  score  last_activity_date  creation_date  \\\n",
       "0            26             1      5          1583723188     1583716704   \n",
       "1            59             4      4          1583724631     1583723323   \n",
       "2            40             2      4          1583760265     1583759138   \n",
       "3            21             2      4          1583760641     1583759591   \n",
       "4            59             1      4          1583769158     1583764083   \n",
       "..          ...           ...    ...                 ...            ...   \n",
       "495          18             1      0          1583780242     1583758761   \n",
       "496          26             0      0          1583771337     1583758716   \n",
       "497          12             0      0          1583758534     1583758534   \n",
       "498           5             0      0          1583758638     1583758318   \n",
       "499          19             0      0          1583759560     1583758075   \n",
       "\n",
       "     question_id                                               link  \\\n",
       "0       60593624  https://stackoverflow.com/questions/60593624/m...   \n",
       "1       60594272  https://stackoverflow.com/questions/60594272/f...   \n",
       "2       60601208  https://stackoverflow.com/questions/60601208/h...   \n",
       "3       60601337  https://stackoverflow.com/questions/60601337/g...   \n",
       "4       60602630  https://stackoverflow.com/questions/60602630/p...   \n",
       "..           ...                                                ...   \n",
       "495     60601096  https://stackoverflow.com/questions/60601096/m...   \n",
       "496     60601079  https://stackoverflow.com/questions/60601079/f...   \n",
       "497     60601026  https://stackoverflow.com/questions/60601026/t...   \n",
       "498     60600964  https://stackoverflow.com/questions/60600964/m...   \n",
       "499     60600900  https://stackoverflow.com/questions/60600900/p...   \n",
       "\n",
       "                                                 title  accepted_answer_id  \\\n",
       "0    Modify trained model architecture and continue...                 NaN   \n",
       "1    Find row average of tuples in data frame / 2d ...          60594311.0   \n",
       "2    How do I make independent lists within in a list?                 NaN   \n",
       "3    groupby and withhold information of one column...          60601542.0   \n",
       "4    Partial keyword match not working when I am tr...          60604053.0   \n",
       "..                                                 ...                 ...   \n",
       "495  Mule 3.8 error: ImportError: No module named auth                 NaN   \n",
       "496  flask-restful HTTP 500 when uploading file fro...                 NaN   \n",
       "497     Tensorflow For Poets - Upgrade to Tensorflow 2                 NaN   \n",
       "498                           Mathpix - Image Retrieve                 NaN   \n",
       "499  Python3 Scraping Printer`s web page is not wor...                 NaN   \n",
       "\n",
       "     last_edit_date  closed_date closed_reason  \n",
       "0               NaN          NaN           NaN  \n",
       "1      1.583724e+09          NaN           NaN  \n",
       "2      1.583760e+09          NaN           NaN  \n",
       "3      1.583760e+09          NaN           NaN  \n",
       "4      1.583767e+09          NaN           NaN  \n",
       "..              ...          ...           ...  \n",
       "495    1.583760e+09          NaN           NaN  \n",
       "496    1.583771e+09          NaN           NaN  \n",
       "497             NaN          NaN           NaN  \n",
       "498    1.583759e+09          NaN           NaN  \n",
       "499    1.583760e+09          NaN           NaN  \n",
       "\n",
       "[500 rows x 15 columns]"
      ]
     },
     "execution_count": 37,
     "metadata": {},
     "output_type": "execute_result"
    }
   ],
   "source": [
    "quest"
   ]
  },
  {
   "cell_type": "code",
   "execution_count": 33,
   "metadata": {},
   "outputs": [],
   "source": [
    "answers = SITE.fetch('answers', fromdate=1580515200, todate=1583020799)"
   ]
  },
  {
   "cell_type": "code",
   "execution_count": 41,
   "metadata": {},
   "outputs": [],
   "source": [
    "answ = pd.DataFrame(answers['items'])"
   ]
  },
  {
   "cell_type": "code",
   "execution_count": 42,
   "metadata": {},
   "outputs": [
    {
     "data": {
      "text/html": [
       "<div>\n",
       "<style scoped>\n",
       "    .dataframe tbody tr th:only-of-type {\n",
       "        vertical-align: middle;\n",
       "    }\n",
       "\n",
       "    .dataframe tbody tr th {\n",
       "        vertical-align: top;\n",
       "    }\n",
       "\n",
       "    .dataframe thead th {\n",
       "        text-align: right;\n",
       "    }\n",
       "</style>\n",
       "<table border=\"1\" class=\"dataframe\">\n",
       "  <thead>\n",
       "    <tr style=\"text-align: right;\">\n",
       "      <th></th>\n",
       "      <th>owner</th>\n",
       "      <th>is_accepted</th>\n",
       "      <th>score</th>\n",
       "      <th>last_activity_date</th>\n",
       "      <th>last_edit_date</th>\n",
       "      <th>creation_date</th>\n",
       "      <th>answer_id</th>\n",
       "      <th>question_id</th>\n",
       "      <th>community_owned_date</th>\n",
       "    </tr>\n",
       "  </thead>\n",
       "  <tbody>\n",
       "    <tr>\n",
       "      <td>0</td>\n",
       "      <td>{'reputation': 2340, 'user_id': 2233308, 'user...</td>\n",
       "      <td>False</td>\n",
       "      <td>1</td>\n",
       "      <td>1583780299</td>\n",
       "      <td>1583780299</td>\n",
       "      <td>1581760398</td>\n",
       "      <td>60237619</td>\n",
       "      <td>60233772</td>\n",
       "      <td>NaN</td>\n",
       "    </tr>\n",
       "    <tr>\n",
       "      <td>1</td>\n",
       "      <td>{'reputation': 10120, 'user_id': 4728685, 'use...</td>\n",
       "      <td>False</td>\n",
       "      <td>0</td>\n",
       "      <td>1583778673</td>\n",
       "      <td>1583778673</td>\n",
       "      <td>1581930701</td>\n",
       "      <td>60259073</td>\n",
       "      <td>60258429</td>\n",
       "      <td>NaN</td>\n",
       "    </tr>\n",
       "    <tr>\n",
       "      <td>2</td>\n",
       "      <td>{'reputation': 1085, 'user_id': 1726544, 'user...</td>\n",
       "      <td>True</td>\n",
       "      <td>0</td>\n",
       "      <td>1583776164</td>\n",
       "      <td>1583776164</td>\n",
       "      <td>1582124343</td>\n",
       "      <td>60303161</td>\n",
       "      <td>60270123</td>\n",
       "      <td>NaN</td>\n",
       "    </tr>\n",
       "    <tr>\n",
       "      <td>3</td>\n",
       "      <td>{'reputation': 731, 'user_id': 1131162, 'user_...</td>\n",
       "      <td>True</td>\n",
       "      <td>0</td>\n",
       "      <td>1583775364</td>\n",
       "      <td>1583775364</td>\n",
       "      <td>1582481478</td>\n",
       "      <td>60365300</td>\n",
       "      <td>60287191</td>\n",
       "      <td>NaN</td>\n",
       "    </tr>\n",
       "    <tr>\n",
       "      <td>4</td>\n",
       "      <td>{'reputation': 8869, 'user_id': 361855, 'user_...</td>\n",
       "      <td>False</td>\n",
       "      <td>0</td>\n",
       "      <td>1583775201</td>\n",
       "      <td>1583775201</td>\n",
       "      <td>1582755304</td>\n",
       "      <td>60423420</td>\n",
       "      <td>58675893</td>\n",
       "      <td>NaN</td>\n",
       "    </tr>\n",
       "  </tbody>\n",
       "</table>\n",
       "</div>"
      ],
      "text/plain": [
       "                                               owner  is_accepted  score  \\\n",
       "0  {'reputation': 2340, 'user_id': 2233308, 'user...        False      1   \n",
       "1  {'reputation': 10120, 'user_id': 4728685, 'use...        False      0   \n",
       "2  {'reputation': 1085, 'user_id': 1726544, 'user...         True      0   \n",
       "3  {'reputation': 731, 'user_id': 1131162, 'user_...         True      0   \n",
       "4  {'reputation': 8869, 'user_id': 361855, 'user_...        False      0   \n",
       "\n",
       "   last_activity_date  last_edit_date  creation_date  answer_id  question_id  \\\n",
       "0          1583780299      1583780299     1581760398   60237619     60233772   \n",
       "1          1583778673      1583778673     1581930701   60259073     60258429   \n",
       "2          1583776164      1583776164     1582124343   60303161     60270123   \n",
       "3          1583775364      1583775364     1582481478   60365300     60287191   \n",
       "4          1583775201      1583775201     1582755304   60423420     58675893   \n",
       "\n",
       "   community_owned_date  \n",
       "0                   NaN  \n",
       "1                   NaN  \n",
       "2                   NaN  \n",
       "3                   NaN  \n",
       "4                   NaN  "
      ]
     },
     "execution_count": 42,
     "metadata": {},
     "output_type": "execute_result"
    }
   ],
   "source": [
    "answ.head()"
   ]
  },
  {
   "cell_type": "markdown",
   "metadata": {},
   "source": [
    "#### Question 2: Find the most voted question today with at least a score of 5 and tagged with 'python'. "
   ]
  },
  {
   "cell_type": "code",
   "execution_count": 11,
   "metadata": {},
   "outputs": [],
   "source": [
    "# your code here\n",
    "\n",
    "questions = SITE.fetch('questions', fromdate=1583712000, todate=1583785860,\n",
    "    tagged='python', sort='votes')"
   ]
  },
  {
   "cell_type": "code",
   "execution_count": 16,
   "metadata": {},
   "outputs": [
    {
     "data": {
      "text/plain": [
       "{'tags': ['python', 'tensorflow', 'keras', 'pre-trained-model'],\n",
       " 'owner': {'reputation': 2139,\n",
       "  'user_id': 3337089,\n",
       "  'user_type': 'registered',\n",
       "  'accept_rate': 86,\n",
       "  'profile_image': 'https://www.gravatar.com/avatar/b096725512960a65abe37b76c383de67?s=128&d=identicon&r=PG&f=1',\n",
       "  'display_name': 'Nagabhushan S N',\n",
       "  'link': 'https://stackoverflow.com/users/3337089/nagabhushan-s-n'},\n",
       " 'is_answered': True,\n",
       " 'view_count': 26,\n",
       " 'answer_count': 1,\n",
       " 'score': 5,\n",
       " 'last_activity_date': 1583723188,\n",
       " 'creation_date': 1583716704,\n",
       " 'question_id': 60593624,\n",
       " 'link': 'https://stackoverflow.com/questions/60593624/modify-trained-model-architecture-and-continue-training-keras',\n",
       " 'title': 'Modify trained model architecture and continue training Keras'}"
      ]
     },
     "execution_count": 16,
     "metadata": {},
     "output_type": "execute_result"
    }
   ],
   "source": [
    "questions['items'][0]"
   ]
  },
  {
   "cell_type": "code",
   "execution_count": 24,
   "metadata": {},
   "outputs": [],
   "source": [
    "import pandas as pd\n",
    "\n",
    "quest = pd.DataFrame(questions['items'])"
   ]
  },
  {
   "cell_type": "code",
   "execution_count": 32,
   "metadata": {},
   "outputs": [
    {
     "data": {
      "text/plain": [
       "0    Modify trained model architecture and continue...\n",
       "1    Find row average of tuples in data frame / 2d ...\n",
       "2    How do I make independent lists within in a list?\n",
       "3    groupby and withhold information of one column...\n",
       "4    Partial keyword match not working when I am tr...\n",
       "Name: title, dtype: object"
      ]
     },
     "execution_count": 32,
     "metadata": {},
     "output_type": "execute_result"
    }
   ],
   "source": [
    "quest['title'].head(5)"
   ]
  },
  {
   "cell_type": "markdown",
   "metadata": {},
   "source": [
    "#### Question 3: Find the answers with id 6784 and 6473."
   ]
  },
  {
   "cell_type": "code",
   "execution_count": 59,
   "metadata": {},
   "outputs": [],
   "source": [
    "# your code here\n",
    "answers = SITE.fetch('answers', accepted_answer_id=[6784,6473])"
   ]
  },
  {
   "cell_type": "code",
   "execution_count": 61,
   "metadata": {},
   "outputs": [],
   "source": [
    "answ = pd.DataFrame(answ)"
   ]
  },
  {
   "cell_type": "code",
   "execution_count": 64,
   "metadata": {},
   "outputs": [
    {
     "data": {
      "text/plain": [
       "0      60607996.0\n",
       "1             NaN\n",
       "2      60607737.0\n",
       "3      60607938.0\n",
       "4             NaN\n",
       "          ...    \n",
       "495           NaN\n",
       "496           NaN\n",
       "497    27673705.0\n",
       "498           NaN\n",
       "499           NaN\n",
       "Name: accepted_answer_id, Length: 500, dtype: float64"
      ]
     },
     "execution_count": 64,
     "metadata": {},
     "output_type": "execute_result"
    }
   ],
   "source": [
    "quest['accepted_answer_id']"
   ]
  },
  {
   "cell_type": "code",
   "execution_count": 1,
   "metadata": {},
   "outputs": [
    {
     "ename": "NameError",
     "evalue": "name 'SITE' is not defined",
     "output_type": "error",
     "traceback": [
      "\u001b[0;31m---------------------------------------------------------------------------\u001b[0m",
      "\u001b[0;31mNameError\u001b[0m                                 Traceback (most recent call last)",
      "\u001b[0;32m<ipython-input-1-8a34cf0f6f6f>\u001b[0m in \u001b[0;36m<module>\u001b[0;34m\u001b[0m\n\u001b[0;32m----> 1\u001b[0;31m \u001b[0mansw\u001b[0m \u001b[0;34m=\u001b[0m \u001b[0mSITE\u001b[0m\u001b[0;34m.\u001b[0m\u001b[0mfetch\u001b[0m\u001b[0;34m(\u001b[0m\u001b[0;34m'answers/{ids}'\u001b[0m\u001b[0;34m,\u001b[0m \u001b[0mids\u001b[0m\u001b[0;34m=\u001b[0m\u001b[0;34m[\u001b[0m\u001b[0;36m1\u001b[0m\u001b[0;34m,\u001b[0m\u001b[0;36m2\u001b[0m\u001b[0;34m,\u001b[0m\u001b[0;36m3\u001b[0m\u001b[0;34m]\u001b[0m\u001b[0;34m)\u001b[0m\u001b[0;34m\u001b[0m\u001b[0;34m\u001b[0m\u001b[0m\n\u001b[0m",
      "\u001b[0;31mNameError\u001b[0m: name 'SITE' is not defined"
     ]
    }
   ],
   "source": [
    "answ = SITE.fetch('answers/{ids}', ids=[1,2,3])"
   ]
  },
  {
   "cell_type": "code",
   "execution_count": null,
   "metadata": {},
   "outputs": [],
   "source": []
  }
 ],
 "metadata": {
  "kernelspec": {
   "display_name": "Python 3",
   "language": "python",
   "name": "python3"
  },
  "language_info": {
   "codemirror_mode": {
    "name": "ipython",
    "version": 3
   },
   "file_extension": ".py",
   "mimetype": "text/x-python",
   "name": "python",
   "nbconvert_exporter": "python",
   "pygments_lexer": "ipython3",
   "version": "3.7.4"
  }
 },
 "nbformat": 4,
 "nbformat_minor": 2
}
